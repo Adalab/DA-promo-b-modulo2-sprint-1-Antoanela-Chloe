{
 "cells": [
  {
   "cell_type": "code",
   "execution_count": 3,
   "metadata": {},
   "outputs": [],
   "source": [
    "import pandas as pd\n",
    "import numpy as np\n",
    "import seaborn as sns\n",
    "from scipy import stats "
   ]
  },
  {
   "cell_type": "markdown",
   "metadata": {},
   "source": [
    "1. Buscar un conjunto de datos a analizar:\n",
    "Se recomienda que el conjunto de datos a analizar tenga variables numéricas y categóricas. Ya que también se analizarán."
   ]
  },
  {
   "cell_type": "code",
   "execution_count": 4,
   "metadata": {},
   "outputs": [],
   "source": [
    "# Hemos elegido un conjunto de datos que recoge el salario de cada posicion en el sector de data science, por año, por país y otros."
   ]
  },
  {
   "cell_type": "code",
   "execution_count": 5,
   "metadata": {},
   "outputs": [
    {
     "data": {
      "text/html": [
       "<div>\n",
       "<style scoped>\n",
       "    .dataframe tbody tr th:only-of-type {\n",
       "        vertical-align: middle;\n",
       "    }\n",
       "\n",
       "    .dataframe tbody tr th {\n",
       "        vertical-align: top;\n",
       "    }\n",
       "\n",
       "    .dataframe thead th {\n",
       "        text-align: right;\n",
       "    }\n",
       "</style>\n",
       "<table border=\"1\" class=\"dataframe\">\n",
       "  <thead>\n",
       "    <tr style=\"text-align: right;\">\n",
       "      <th></th>\n",
       "      <th>work_year</th>\n",
       "      <th>experience_level</th>\n",
       "      <th>employment_type</th>\n",
       "      <th>job_title</th>\n",
       "      <th>salary</th>\n",
       "      <th>salary_currency</th>\n",
       "      <th>salary_in_usd</th>\n",
       "      <th>employee_residence</th>\n",
       "      <th>remote_ratio</th>\n",
       "      <th>company_location</th>\n",
       "      <th>company_size</th>\n",
       "    </tr>\n",
       "  </thead>\n",
       "  <tbody>\n",
       "    <tr>\n",
       "      <th>0</th>\n",
       "      <td>2020</td>\n",
       "      <td>MI</td>\n",
       "      <td>FT</td>\n",
       "      <td>Data Scientist</td>\n",
       "      <td>70000</td>\n",
       "      <td>EUR</td>\n",
       "      <td>79833</td>\n",
       "      <td>DE</td>\n",
       "      <td>0</td>\n",
       "      <td>DE</td>\n",
       "      <td>L</td>\n",
       "    </tr>\n",
       "    <tr>\n",
       "      <th>1</th>\n",
       "      <td>2020</td>\n",
       "      <td>SE</td>\n",
       "      <td>FT</td>\n",
       "      <td>Machine Learning Scientist</td>\n",
       "      <td>260000</td>\n",
       "      <td>USD</td>\n",
       "      <td>260000</td>\n",
       "      <td>JP</td>\n",
       "      <td>0</td>\n",
       "      <td>JP</td>\n",
       "      <td>S</td>\n",
       "    </tr>\n",
       "    <tr>\n",
       "      <th>2</th>\n",
       "      <td>2020</td>\n",
       "      <td>SE</td>\n",
       "      <td>FT</td>\n",
       "      <td>Big Data Engineer</td>\n",
       "      <td>85000</td>\n",
       "      <td>GBP</td>\n",
       "      <td>109024</td>\n",
       "      <td>GB</td>\n",
       "      <td>50</td>\n",
       "      <td>GB</td>\n",
       "      <td>M</td>\n",
       "    </tr>\n",
       "  </tbody>\n",
       "</table>\n",
       "</div>"
      ],
      "text/plain": [
       "   work_year experience_level employment_type                   job_title  \\\n",
       "0       2020               MI              FT              Data Scientist   \n",
       "1       2020               SE              FT  Machine Learning Scientist   \n",
       "2       2020               SE              FT           Big Data Engineer   \n",
       "\n",
       "   salary salary_currency  salary_in_usd employee_residence  remote_ratio  \\\n",
       "0   70000             EUR          79833                 DE             0   \n",
       "1  260000             USD         260000                 JP             0   \n",
       "2   85000             GBP         109024                 GB            50   \n",
       "\n",
       "  company_location company_size  \n",
       "0               DE            L  \n",
       "1               JP            S  \n",
       "2               GB            M  "
      ]
     },
     "execution_count": 5,
     "metadata": {},
     "output_type": "execute_result"
    }
   ],
   "source": [
    "df = pd.read_csv('ds_salaries.csv', index_col = 0)\n",
    "df.head(3)"
   ]
  },
  {
   "cell_type": "code",
   "execution_count": 6,
   "metadata": {},
   "outputs": [
    {
     "name": "stdout",
     "output_type": "stream",
     "text": [
      "<class 'pandas.core.frame.DataFrame'>\n",
      "Int64Index: 607 entries, 0 to 606\n",
      "Data columns (total 11 columns):\n",
      " #   Column              Non-Null Count  Dtype \n",
      "---  ------              --------------  ----- \n",
      " 0   work_year           607 non-null    int64 \n",
      " 1   experience_level    607 non-null    object\n",
      " 2   employment_type     607 non-null    object\n",
      " 3   job_title           607 non-null    object\n",
      " 4   salary              607 non-null    int64 \n",
      " 5   salary_currency     607 non-null    object\n",
      " 6   salary_in_usd       607 non-null    int64 \n",
      " 7   employee_residence  607 non-null    object\n",
      " 8   remote_ratio        607 non-null    int64 \n",
      " 9   company_location    607 non-null    object\n",
      " 10  company_size        607 non-null    object\n",
      "dtypes: int64(4), object(7)\n",
      "memory usage: 56.9+ KB\n"
     ]
    }
   ],
   "source": [
    "df.info()\n",
    "# Vemos que tenemos solo 4 columnas de tipo numérico"
   ]
  },
  {
   "cell_type": "markdown",
   "metadata": {},
   "source": [
    ">\n",
    "> `Enlace a la leyenda del Dataset:`\n",
    ">\n",
    ">  https://www.kaggle.com/datasets/ruchi798/data-science-job-salaries?resource=download\n",
    ">"
   ]
  },
  {
   "cell_type": "markdown",
   "metadata": {},
   "source": [
    "2. Extraer los siguentes estadísiticos del conjunto de datos para varias de las variables disponibles:\n",
    "Media,\n",
    "Desviación con respecto de la media, \n",
    "Varianza,\n",
    "Desviación típica,\n",
    "Moda,\n",
    "Mediana,\n",
    "Media ponderada,\n",
    "Robustez,\n",
    "Coeficiente de variación"
   ]
  },
  {
   "cell_type": "code",
   "execution_count": 7,
   "metadata": {},
   "outputs": [
    {
     "data": {
      "text/plain": [
       "112297.86985172982"
      ]
     },
     "execution_count": 7,
     "metadata": {},
     "output_type": "execute_result"
    }
   ],
   "source": [
    "# Calculamos la media de dos columnas, salary in usd (para que todos los salarios nos den en la misma moneda) y work year\n",
    "\n",
    "media_salary= df['salary_in_usd'].mean()\n",
    "media_salary"
   ]
  },
  {
   "cell_type": "code",
   "execution_count": 8,
   "metadata": {},
   "outputs": [
    {
     "data": {
      "text/plain": [
       "2021.4052718286655"
      ]
     },
     "execution_count": 8,
     "metadata": {},
     "output_type": "execute_result"
    }
   ],
   "source": [
    "media_year = df['work_year'].mean()\n",
    "media_year"
   ]
  },
  {
   "cell_type": "code",
   "execution_count": 36,
   "metadata": {},
   "outputs": [
    {
     "data": {
      "text/plain": [
       "0       32464.869852\n",
       "1      147702.130148\n",
       "2        3273.869852\n",
       "3       92297.869852\n",
       "4       37702.130148\n",
       "           ...      \n",
       "602     41702.130148\n",
       "603     13702.130148\n",
       "604     16702.130148\n",
       "605     37702.130148\n",
       "606     87702.130148\n",
       "Name: salary_in_usd, Length: 607, dtype: float64"
      ]
     },
     "execution_count": 36,
     "metadata": {},
     "output_type": "execute_result"
    }
   ],
   "source": [
    "# Calculamos la desviacion con respecto a la media de las mismas columnas\n",
    "\n",
    "salary= df['salary_in_usd']\n",
    "desviacion_media= np.abs(salary - media_salary )\n",
    "desviacion_media"
   ]
  },
  {
   "cell_type": "code",
   "execution_count": 37,
   "metadata": {},
   "outputs": [
    {
     "data": {
      "text/plain": [
       "0      1.405272\n",
       "1      1.405272\n",
       "2      1.405272\n",
       "3      1.405272\n",
       "4      1.405272\n",
       "         ...   \n",
       "602    0.594728\n",
       "603    0.594728\n",
       "604    0.594728\n",
       "605    0.594728\n",
       "606    0.594728\n",
       "Name: work_year, Length: 607, dtype: float64"
      ]
     },
     "execution_count": 37,
     "metadata": {},
     "output_type": "execute_result"
    }
   ],
   "source": [
    "work_year = df['work_year']\n",
    "desviacion_media_year = np.abs(work_year - media_year)\n",
    "desviacion_media_year"
   ]
  },
  {
   "cell_type": "code",
   "execution_count": 38,
   "metadata": {},
   "outputs": [
    {
     "data": {
      "text/plain": [
       "5026637881.193936"
      ]
     },
     "execution_count": 38,
     "metadata": {},
     "output_type": "execute_result"
    }
   ],
   "source": [
    "# Calculamos la varianza\n",
    "\n",
    "var_salary = np.var(salary)\n",
    "var_salary"
   ]
  },
  {
   "cell_type": "code",
   "execution_count": 39,
   "metadata": {},
   "outputs": [
    {
     "data": {
      "text/plain": [
       "0.47825886350621105"
      ]
     },
     "execution_count": 39,
     "metadata": {},
     "output_type": "execute_result"
    }
   ],
   "source": [
    "var_year = np.var(work_year)\n",
    "var_year"
   ]
  },
  {
   "cell_type": "code",
   "execution_count": 40,
   "metadata": {},
   "outputs": [
    {
     "data": {
      "text/plain": [
       "70898.78617574448"
      ]
     },
     "execution_count": 40,
     "metadata": {},
     "output_type": "execute_result"
    }
   ],
   "source": [
    "# Calculamos la desviación típica\n",
    "\n",
    "std_salary = np.std(salary)\n",
    "std_salary"
   ]
  },
  {
   "cell_type": "code",
   "execution_count": 41,
   "metadata": {},
   "outputs": [
    {
     "data": {
      "text/plain": [
       "0.6915626244283384"
      ]
     },
     "execution_count": 41,
     "metadata": {},
     "output_type": "execute_result"
    }
   ],
   "source": [
    "std_year = np.std(work_year)\n",
    "std_year"
   ]
  },
  {
   "cell_type": "code",
   "execution_count": 82,
   "metadata": {},
   "outputs": [
    {
     "name": "stdout",
     "output_type": "stream",
     "text": [
      "la moda es : [100000]\n",
      "la frecuencia es : [15]\n"
     ]
    }
   ],
   "source": [
    "# Calculamos la moda\n",
    "\n",
    "moda1, frecuencia1 = stats.mode(salary)\n",
    "print('la moda es :', moda1)\n",
    "print('la frecuencia es :', frecuencia1)"
   ]
  },
  {
   "cell_type": "code",
   "execution_count": 83,
   "metadata": {},
   "outputs": [
    {
     "name": "stdout",
     "output_type": "stream",
     "text": [
      "la moda es : [2022]\n",
      "la frecuencia es : [318]\n"
     ]
    }
   ],
   "source": [
    "moda2, frecuencia2 = stats.mode(work_year)\n",
    "print('la moda es :', moda2)\n",
    "print('la frecuencia es :', frecuencia2)"
   ]
  },
  {
   "cell_type": "code",
   "execution_count": 44,
   "metadata": {},
   "outputs": [
    {
     "name": "stdout",
     "output_type": "stream",
     "text": [
      "la mediana del salario es:  101570.0\n",
      "la mediana del año es:  2022.0\n"
     ]
    }
   ],
   "source": [
    "# Calculamos la mediana\n",
    "\n",
    "print('la mediana del salario es: ', np.median(salary))\n",
    "print('la mediana del año es: ', np.median(work_year))"
   ]
  },
  {
   "cell_type": "code",
   "execution_count": 45,
   "metadata": {},
   "outputs": [
    {
     "name": "stdout",
     "output_type": "stream",
     "text": [
      "la media ponderada del salario es:  112297.86985172982\n",
      "la media ponderada del año es:  2021.4052718286655\n"
     ]
    }
   ],
   "source": [
    "# Calculamos la media ponderada sin pesos. \n",
    "# En este caso el resultado es igual que la media.\n",
    "\n",
    "print('la media ponderada del salario es: ', np.average(salary))\n",
    "print('la media ponderada del año es: ', np.average(work_year))"
   ]
  },
  {
   "cell_type": "code",
   "execution_count": 58,
   "metadata": {},
   "outputs": [],
   "source": [
    "# Imaginamos que queremos darle más peso a los registros realizados en el año 2022\n",
    "## Nos creamos un array con los años y otro con los pesos.\n",
    "\n",
    "arr_years = np.array(work_year)\n",
    "weights = np.where(arr_years == 2022, 0.7, 0.15)"
   ]
  },
  {
   "cell_type": "code",
   "execution_count": 60,
   "metadata": {},
   "outputs": [
    {
     "name": "stdout",
     "output_type": "stream",
     "text": [
      "la media ponderada del año es:  2021.7963902989277\n"
     ]
    }
   ],
   "source": [
    "print('la media ponderada del año es: ', np.average(arr_years, weights= weights))"
   ]
  },
  {
   "cell_type": "code",
   "execution_count": 77,
   "metadata": {},
   "outputs": [
    {
     "data": {
      "text/plain": [
       "0     79833\n",
       "1    260000\n",
       "2    109024\n",
       "3     20000\n",
       "4    150000\n",
       "Name: salary_in_usd, dtype: int64"
      ]
     },
     "execution_count": 77,
     "metadata": {},
     "output_type": "execute_result"
    }
   ],
   "source": [
    "# Robustez\n",
    "\n",
    "# Para comprobar la robustez de los cálculos estadísticos tenemos que probar a modificar los datos de nuestras variables\n",
    "# y ver cuánto se ven afectados los resultados estadísticos. Cuanto menos les afecten los cambios, más robustos son.\n",
    "\n",
    "# Hacemos una copia para modificar algunos de los datos\n",
    "dfsalary = df['salary_in_usd'].copy()\n",
    "dfsalary.head()"
   ]
  },
  {
   "cell_type": "code",
   "execution_count": 78,
   "metadata": {},
   "outputs": [],
   "source": [
    "# Eliminamos todos los valores por debajo de 60.000 $\n",
    "dfsalary.where(dfsalary > 6000, 0, inplace = True)"
   ]
  },
  {
   "cell_type": "code",
   "execution_count": 84,
   "metadata": {},
   "outputs": [
    {
     "name": "stdout",
     "output_type": "stream",
     "text": [
      "la media de dfsalary es:  112242.62108731466\n",
      "la moda es : [100000]\n",
      "la frecuencia es : [15]\n",
      "la mediana del dfsalary es:  101570.0\n"
     ]
    }
   ],
   "source": [
    "# Calculamos la media, la mediana y la moda\n",
    "print('la media de dfsalary es: ', np.mean(dfsalary))\n",
    "\n",
    "moda3, frecuencia3 = stats.mode(dfsalary)\n",
    "print('la moda es :', moda3)\n",
    "print('la frecuencia es :', frecuencia3)\n",
    "\n",
    "print('la mediana del dfsalary es: ', np.median(dfsalary))\n"
   ]
  },
  {
   "cell_type": "code",
   "execution_count": 86,
   "metadata": {},
   "outputs": [
    {
     "name": "stdout",
     "output_type": "stream",
     "text": [
      "la media del salario antes de modificar era: 112297.86985172982\n",
      "la media del salario después de modificar es: 112242.62108731466\n",
      "Ha cambiado 55.248764415155165  unidades con las modificaciones\n",
      "-------------------------------------\n",
      "la mediana del salario antes de modificar era: 101570.0\n",
      "la mediana del salario después de modificar es: 101570.0\n",
      "Ha cambiado 0.0  unidades con las modificaciones\n",
      "-------------------------------------\n",
      "la moda y frecuencia del salario antes de modificar era: [100000] , [15]\n",
      "la moda y frecuencia del salario después de modificar es: [100000] , [15]\n",
      "Ha cambiado [0]  con las modificaciones\n"
     ]
    }
   ],
   "source": [
    "# Comparamos los cambios\n",
    "\n",
    "print('la media del salario antes de modificar era:', np.mean(salary))\n",
    "print('la media del salario después de modificar es:', np.mean(dfsalary))\n",
    "print('Ha cambiado', abs(np.mean(salary) - np.mean(dfsalary)), ' unidades con las modificaciones')\n",
    "\n",
    "print('-------------------------------------')\n",
    "\n",
    "print('la mediana del salario antes de modificar era:', np.median(salary))\n",
    "print('la mediana del salario después de modificar es:', np.median(dfsalary))\n",
    "print('Ha cambiado', abs(np.median(salary)- np.median(dfsalary)), ' unidades con las modificaciones')\n",
    "\n",
    "print('-------------------------------------')\n",
    "\n",
    "print('la moda y frecuencia del salario antes de modificar era:', moda1, ',', frecuencia1)\n",
    "print('la moda y frecuencia del salario después de modificar es:', moda3, ',', frecuencia3)\n",
    "print('Ha cambiado', abs(moda1 - moda3), ' con las modificaciones')"
   ]
  },
  {
   "cell_type": "code",
   "execution_count": null,
   "metadata": {},
   "outputs": [],
   "source": [
    "# CONCLUSIONES: La moda y la mediana son cálculos estadísticos mucho más robustos que la media, \n",
    "# ya que la media utuliza todos los valores para calcular el resultado."
   ]
  },
  {
   "cell_type": "code",
   "execution_count": 61,
   "metadata": {},
   "outputs": [
    {
     "name": "stdout",
     "output_type": "stream",
     "text": [
      "el coeficiente de variación del salario es:  0.63134577948232\n",
      "el coeficiente de variación del año es:  0.00034211972931223034\n"
     ]
    }
   ],
   "source": [
    "# Calculamos el coeficiente de variación\n",
    "\n",
    "print('el coeficiente de variación del salario es: ', std_salary / media_salary)\n",
    "print('el coeficiente de variación del año es: ', std_year / media_year)\n"
   ]
  },
  {
   "cell_type": "markdown",
   "metadata": {},
   "source": [
    "3. Interpretación de los resultados.\n",
    "Ahora interpreta los resultados obtenidos de los diferentes estadísticos estudiados haciendo hincapié en aspectos interesantes de tus datos y explica lo mejor posible la naturaleza de los mismos."
   ]
  },
  {
   "cell_type": "markdown",
   "metadata": {},
   "source": [
    "\n",
    "##### `salary_in_usd`\n",
    "\n",
    "\n",
    "En el caso de los valores de los salarios, vemos que la **varianza** tiene un valor muy elevado y, aunque la **diferencia entre la media y la mediana** es de `10.727,86$`, deducimos que tenemos un _conjunto de valores bastante disperso_. \n",
    "\n",
    "> Esto apunta a que las condiciones de salario varían mucho dependiendo de factores como el país, la experiencia, el tipo de contrato, etc.\n",
    "\n",
    "Además, de acuerdo a la **moda**, vemos que el salario más repetido entre los encuestados es de `100.000$`, con una **frecuencia** de `15` entre `607` registros, y se acerca bastante a la media (media_salary = 112297.87 $)."
   ]
  },
  {
   "cell_type": "markdown",
   "metadata": {},
   "source": [
    "##### `work_year`\n",
    "\n",
    "\n",
    "En cuanto al tiempo en años, vemos que hay _poca variación_, eso significa que los datos recogidos están distribuidos de forma bastante uniforme en el tiempo, que oscula en un rango de 3 años. \n",
    "\n",
    "Por eso la media y la mediana se diferencian en un `0.6`, osea `6` meses.\n",
    "\n",
    "> Sin embargo, de acuerdo a la **moda**, el año con más registros es el `2022`, con una **frecuencia** de `318` sobre `607`, es decir un _poco más de la mitad de los registros corresponden al año 2022_. "
   ]
  }
 ],
 "metadata": {
  "kernelspec": {
   "display_name": "Python 3.9.7 ('base')",
   "language": "python",
   "name": "python3"
  },
  "language_info": {
   "codemirror_mode": {
    "name": "ipython",
    "version": 3
   },
   "file_extension": ".py",
   "mimetype": "text/x-python",
   "name": "python",
   "nbconvert_exporter": "python",
   "pygments_lexer": "ipython3",
   "version": "3.9.7"
  },
  "orig_nbformat": 4,
  "vscode": {
   "interpreter": {
    "hash": "6be5d780ee9b0e6fe20ff9090f4981b24f52f07297829e94136e87c5137905e3"
   }
  }
 },
 "nbformat": 4,
 "nbformat_minor": 2
}
