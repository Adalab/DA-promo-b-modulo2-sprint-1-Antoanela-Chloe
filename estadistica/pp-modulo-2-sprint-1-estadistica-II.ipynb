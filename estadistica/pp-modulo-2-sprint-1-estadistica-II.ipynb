{
 "cells": [
  {
   "cell_type": "code",
   "execution_count": 3,
   "metadata": {},
   "outputs": [],
   "source": [
    "import pandas as pd\n",
    "import numpy as np\n",
    "import matplotlib.pyplot as plt # importando matplotlib\n",
    "import seaborn as sns\n",
    "from scipy import stats # importando scipy.stats"
   ]
  },
  {
   "cell_type": "code",
   "execution_count": 4,
   "metadata": {},
   "outputs": [
    {
     "data": {
      "text/html": [
       "<div>\n",
       "<style scoped>\n",
       "    .dataframe tbody tr th:only-of-type {\n",
       "        vertical-align: middle;\n",
       "    }\n",
       "\n",
       "    .dataframe tbody tr th {\n",
       "        vertical-align: top;\n",
       "    }\n",
       "\n",
       "    .dataframe thead th {\n",
       "        text-align: right;\n",
       "    }\n",
       "</style>\n",
       "<table border=\"1\" class=\"dataframe\">\n",
       "  <thead>\n",
       "    <tr style=\"text-align: right;\">\n",
       "      <th></th>\n",
       "      <th>work_year</th>\n",
       "      <th>experience_level</th>\n",
       "      <th>employment_type</th>\n",
       "      <th>job_title</th>\n",
       "      <th>salary</th>\n",
       "      <th>salary_currency</th>\n",
       "      <th>salary_in_usd</th>\n",
       "      <th>employee_residence</th>\n",
       "      <th>remote_ratio</th>\n",
       "      <th>company_location</th>\n",
       "      <th>company_size</th>\n",
       "    </tr>\n",
       "  </thead>\n",
       "  <tbody>\n",
       "    <tr>\n",
       "      <th>0</th>\n",
       "      <td>2020</td>\n",
       "      <td>MI</td>\n",
       "      <td>FT</td>\n",
       "      <td>Data Scientist</td>\n",
       "      <td>70000</td>\n",
       "      <td>EUR</td>\n",
       "      <td>79833</td>\n",
       "      <td>DE</td>\n",
       "      <td>0</td>\n",
       "      <td>DE</td>\n",
       "      <td>L</td>\n",
       "    </tr>\n",
       "    <tr>\n",
       "      <th>1</th>\n",
       "      <td>2020</td>\n",
       "      <td>SE</td>\n",
       "      <td>FT</td>\n",
       "      <td>Machine Learning Scientist</td>\n",
       "      <td>260000</td>\n",
       "      <td>USD</td>\n",
       "      <td>260000</td>\n",
       "      <td>JP</td>\n",
       "      <td>0</td>\n",
       "      <td>JP</td>\n",
       "      <td>S</td>\n",
       "    </tr>\n",
       "    <tr>\n",
       "      <th>2</th>\n",
       "      <td>2020</td>\n",
       "      <td>SE</td>\n",
       "      <td>FT</td>\n",
       "      <td>Big Data Engineer</td>\n",
       "      <td>85000</td>\n",
       "      <td>GBP</td>\n",
       "      <td>109024</td>\n",
       "      <td>GB</td>\n",
       "      <td>50</td>\n",
       "      <td>GB</td>\n",
       "      <td>M</td>\n",
       "    </tr>\n",
       "  </tbody>\n",
       "</table>\n",
       "</div>"
      ],
      "text/plain": [
       "   work_year experience_level employment_type                   job_title  \\\n",
       "0       2020               MI              FT              Data Scientist   \n",
       "1       2020               SE              FT  Machine Learning Scientist   \n",
       "2       2020               SE              FT           Big Data Engineer   \n",
       "\n",
       "   salary salary_currency  salary_in_usd employee_residence  remote_ratio  \\\n",
       "0   70000             EUR          79833                 DE             0   \n",
       "1  260000             USD         260000                 JP             0   \n",
       "2   85000             GBP         109024                 GB            50   \n",
       "\n",
       "  company_location company_size  \n",
       "0               DE            L  \n",
       "1               JP            S  \n",
       "2               GB            M  "
      ]
     },
     "execution_count": 4,
     "metadata": {},
     "output_type": "execute_result"
    }
   ],
   "source": [
    "df = pd.read_csv('ds_salaries.csv', index_col = 0)\n",
    "df.head(3)"
   ]
  },
  {
   "cell_type": "markdown",
   "metadata": {},
   "source": [
    "1. Extraer los siguentes estadísiticos del conjunto de datos para varias de las varibles disponibles:\n",
    "Utilizando métodos de pandas: media, mediana, moda, máximo y mínimo,\n",
    "Percentiles 25, 75,\n",
    "Rango Intercualtílico,\n",
    "Boxplot de algunas variables,\n",
    "Tabla de frecuencias,\n",
    "Variables cualitativas,\n",
    "Variables cuantitativas,\n",
    "Frecuencia acumulada,\n",
    "Representación de al menos una tabla de frecuencias\n"
   ]
  },
  {
   "cell_type": "code",
   "execution_count": 19,
   "metadata": {},
   "outputs": [
    {
     "name": "stdout",
     "output_type": "stream",
     "text": [
      "la media de cada columna es: \n",
      " work_year          2021.41\n",
      "salary           324000.06\n",
      "salary_in_usd    112297.87\n",
      "remote_ratio         70.92\n",
      "dtype: float64\n"
     ]
    },
    {
     "name": "stderr",
     "output_type": "stream",
     "text": [
      "/tmp/ipykernel_16834/452655418.py:1: FutureWarning: Dropping of nuisance columns in DataFrame reductions (with 'numeric_only=None') is deprecated; in a future version this will raise TypeError.  Select only valid columns before calling the reduction.\n",
      "  print('la media de cada columna es:','\\n', round(df.mean(),2))\n"
     ]
    }
   ],
   "source": [
    "print('la media de cada columna es:','\\n', round(df.mean(),2))"
   ]
  },
  {
   "cell_type": "code",
   "execution_count": 21,
   "metadata": {},
   "outputs": [
    {
     "name": "stdout",
     "output_type": "stream",
     "text": [
      "la mediana de cada columna es: \n",
      " work_year          2022.0\n",
      "salary           115000.0\n",
      "salary_in_usd    101570.0\n",
      "remote_ratio        100.0\n",
      "dtype: float64\n"
     ]
    },
    {
     "name": "stderr",
     "output_type": "stream",
     "text": [
      "/tmp/ipykernel_16834/2275570869.py:2: FutureWarning: Dropping of nuisance columns in DataFrame reductions (with 'numeric_only=None') is deprecated; in a future version this will raise TypeError.  Select only valid columns before calling the reduction.\n",
      "  print('la mediana de cada columna es:','\\n', round(df.median(),2))\n"
     ]
    }
   ],
   "source": [
    "# mediana de cada columna nuemrica\n",
    "print('la mediana de cada columna es:','\\n', round(df.median(),2))"
   ]
  },
  {
   "cell_type": "code",
   "execution_count": 26,
   "metadata": {},
   "outputs": [
    {
     "name": "stdout",
     "output_type": "stream",
     "text": [
      "la moda de cada columna es: \n",
      "    work_year experience_level employment_type       job_title  salary  \\\n",
      "0     2022.0               SE              FT  Data Scientist   80000   \n",
      "1        NaN              NaN             NaN             NaN  100000   \n",
      "\n",
      "  salary_currency  salary_in_usd employee_residence  remote_ratio  \\\n",
      "0             USD       100000.0                 US         100.0   \n",
      "1             NaN            NaN                NaN           NaN   \n",
      "\n",
      "  company_location company_size  \n",
      "0               US            M  \n",
      "1              NaN          NaN  \n"
     ]
    }
   ],
   "source": [
    "print('la moda de cada columna es:','\\n', round(df.mode(),2))"
   ]
  },
  {
   "cell_type": "code",
   "execution_count": 36,
   "metadata": {},
   "outputs": [
    {
     "name": "stdout",
     "output_type": "stream",
     "text": [
      "el maximo de cada columna es: \n",
      " work_year            2022\n",
      "salary           30400000\n",
      "salary_in_usd      600000\n",
      "remote_ratio          100\n",
      "dtype: int64\n",
      "--------------------\n",
      "el  minimo de cada columna es: \n",
      " work_year        2020\n",
      "salary           4000\n",
      "salary_in_usd    2859\n",
      "remote_ratio        0\n",
      "dtype: int64\n"
     ]
    }
   ],
   "source": [
    "print('el maximo de cada columna es:','\\n', df.max(axis= 0, numeric_only= True))\n",
    "print('--------------------')\n",
    "print('el  minimo de cada columna es:','\\n', df.min(axis = 0, numeric_only= True))"
   ]
  },
  {
   "cell_type": "code",
   "execution_count": 47,
   "metadata": {},
   "outputs": [
    {
     "name": "stdout",
     "output_type": "stream",
     "text": [
      "El rango intercuartílico es: 95000.0\n"
     ]
    }
   ],
   "source": [
    "#percentiles 25, 75\n",
    "q3, q1 = np.percentile(df['salary'], [75, 25])\n",
    "riq = q3 - q1\n",
    "print(\"El rango intercuartílico es:\", riq)"
   ]
  },
  {
   "cell_type": "code",
   "execution_count": 67,
   "metadata": {},
   "outputs": [
    {
     "data": {
      "image/png": "[encoded data removed]",
      "text/plain": [
       "<Figure size 720x864 with 1 Axes>"
      ]
     },
     "metadata": {
      "needs_background": "light"
     },
     "output_type": "display_data"
    },
    {
     "data": {
      "image/png": "[encoded data removed]",
      "text/plain": [
       "<Figure size 720x576 with 1 Axes>"
      ]
     },
     "metadata": {
      "needs_background": "light"
     },
     "output_type": "display_data"
    }
   ],
   "source": [
    "#boxplot de algunas variables\n",
    "\n",
    "fig1 = plt.figure(1,figsize=(10,12))\n",
    "fig2 = plt.figure(2,figsize=(10,8))\n",
    "ax1 = fig1.add_subplot(2,1,1)\n",
    "ax2 = fig2.add_subplot(2,1,2)\n",
    "\n",
    "bp1 = ax1.boxplot(df['salary'])\n",
    "bp2 = ax2.boxplot(df['work_year'])\n",
    "ax1.set_ylim([40000, 350000])\n",
    "\n",
    "plt.show()\n"
   ]
  },
  {
   "cell_type": "code",
   "execution_count": 54,
   "metadata": {},
   "outputs": [
    {
     "name": "stdout",
     "output_type": "stream",
     "text": [
      "<class 'pandas.core.frame.DataFrame'>\n",
      "Int64Index: 607 entries, 0 to 606\n",
      "Data columns (total 11 columns):\n",
      " #   Column              Non-Null Count  Dtype \n",
      "---  ------              --------------  ----- \n",
      " 0   work_year           607 non-null    int64 \n",
      " 1   experience_level    607 non-null    object\n",
      " 2   employment_type     607 non-null    object\n",
      " 3   job_title           607 non-null    object\n",
      " 4   salary              607 non-null    int64 \n",
      " 5   salary_currency     607 non-null    object\n",
      " 6   salary_in_usd       607 non-null    int64 \n",
      " 7   employee_residence  607 non-null    object\n",
      " 8   remote_ratio        607 non-null    int64 \n",
      " 9   company_location    607 non-null    object\n",
      " 10  company_size        607 non-null    object\n",
      "dtypes: int64(4), object(7)\n",
      "memory usage: 56.9+ KB\n"
     ]
    }
   ],
   "source": [
    "df.info()"
   ]
  },
  {
   "cell_type": "code",
   "execution_count": 56,
   "metadata": {},
   "outputs": [
    {
     "name": "stdout",
     "output_type": "stream",
     "text": [
      "<pandas.core.groupby.generic.DataFrameGroupBy object at 0x7fdccbe44730>\n",
      "                                          frecuencia\n",
      "job_title                                           \n",
      "3D Computer Vision Researcher                      1\n",
      "AI Scientist                                       7\n",
      "Analytics Engineer                                 4\n",
      "Applied Data Scientist                             5\n",
      "Applied Machine Learning Scientist                 4\n",
      "BI Data Analyst                                    6\n",
      "Big Data Architect                                 1\n",
      "Big Data Engineer                                  8\n",
      "Business Data Analyst                              5\n",
      "Cloud Data Engineer                                2\n",
      "Computer Vision Engineer                           6\n",
      "Computer Vision Software Engineer                  3\n",
      "Data Analyst                                      97\n",
      "Data Analytics Engineer                            4\n",
      "Data Analytics Lead                                1\n",
      "Data Analytics Manager                             7\n",
      "Data Architect                                    11\n",
      "Data Engineer                                    132\n",
      "Data Engineering Manager                           5\n",
      "Data Science Consultant                            7\n",
      "Data Science Engineer                              3\n",
      "Data Science Manager                              12\n",
      "Data Scientist                                   143\n",
      "Data Specialist                                    1\n",
      "Director of Data Engineering                       2\n",
      "Director of Data Science                           7\n",
      "ETL Developer                                      2\n",
      "Finance Data Analyst                               1\n",
      "Financial Data Analyst                             2\n",
      "Head of Data                                       5\n",
      "Head of Data Science                               4\n",
      "Head of Machine Learning                           1\n",
      "Lead Data Analyst                                  3\n",
      "Lead Data Engineer                                 6\n",
      "Lead Data Scientist                                3\n",
      "Lead Machine Learning Engineer                     1\n",
      "ML Engineer                                        6\n",
      "Machine Learning Developer                         3\n",
      "Machine Learning Engineer                         41\n",
      "Machine Learning Infrastructure Engineer           3\n",
      "Machine Learning Manager                           1\n",
      "Machine Learning Scientist                         8\n",
      "Marketing Data Analyst                             1\n",
      "NLP Engineer                                       1\n",
      "Principal Data Analyst                             2\n",
      "Principal Data Engineer                            3\n",
      "Principal Data Scientist                           7\n",
      "Product Data Analyst                               2\n",
      "Research Scientist                                16\n",
      "Staff Data Scientist                               1\n"
     ]
    }
   ],
   "source": [
    "#tabla de frecuencias\n",
    "# Primero agrupamos el dataframe por la columna job_title\n",
    "group_jobs = df.groupby(\"job_title\") # Devolvera un objeto DataFrameGroupBy\n",
    "print(group_jobs)\n",
    "\n",
    "# Aplicamos el método agg para agregar los datos por la columa species\n",
    "frecuencias_jobs = group_jobs.agg(frecuencia=(\"job_title\", \"count\"))\n",
    " \n",
    "# Imprimimos por pantalla el resultado de la agrupación y agregación\n",
    "print(frecuencias_jobs)\n"
   ]
  },
  {
   "cell_type": "code",
   "execution_count": null,
   "metadata": {},
   "outputs": [],
   "source": [
    "#variables cualitativas"
   ]
  },
  {
   "cell_type": "code",
   "execution_count": null,
   "metadata": {},
   "outputs": [],
   "source": [
    "#variables cuantitativas"
   ]
  },
  {
   "cell_type": "code",
   "execution_count": null,
   "metadata": {},
   "outputs": [],
   "source": [
    "#frecuancias acumuladas"
   ]
  },
  {
   "cell_type": "code",
   "execution_count": null,
   "metadata": {},
   "outputs": [],
   "source": [
    "#representacion de tabla frecuencias"
   ]
  },
  {
   "cell_type": "markdown",
   "metadata": {},
   "source": [
    "2. Interpretación de los resultados.\n",
    "Ahora interpreta los resultados obtenidos de los diferentes estadísticos estudiados haciendo hincapié en aspectos interesantes de tus datos y explica lo mejor posible la naturaleza de los mismos."
   ]
  },
  {
   "cell_type": "code",
   "execution_count": null,
   "metadata": {},
   "outputs": [],
   "source": []
  }
 ],
 "metadata": {
  "kernelspec": {
   "display_name": "Python 3.9.7 ('base')",
   "language": "python",
   "name": "python3"
  },
  "language_info": {
   "codemirror_mode": {
    "name": "ipython",
    "version": 3
   },
   "file_extension": ".py",
   "mimetype": "text/x-python",
   "name": "python",
   "nbconvert_exporter": "python",
   "pygments_lexer": "ipython3",
   "version": "3.9.7"
  },
  "orig_nbformat": 4,
  "vscode": {
   "interpreter": {
    "hash": "e52e54b208979dc3580fb1371da7079de391a2363b0575de5d9739fd636c0787"
   }
  }
 },
 "nbformat": 4,
 "nbformat_minor": 2
}
