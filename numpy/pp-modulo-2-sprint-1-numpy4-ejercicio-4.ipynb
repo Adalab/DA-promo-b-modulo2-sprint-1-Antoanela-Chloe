{
 "cells": [
  {
   "cell_type": "markdown",
   "metadata": {},
   "source": [
    "1. ¿Cómo podemos crear dos arrays de dos dimensiones usando el método random_sample que tengan los mismos valores?"
   ]
  },
  {
   "cell_type": "code",
   "execution_count": 1,
   "metadata": {},
   "outputs": [],
   "source": [
    "import numpy as np"
   ]
  },
  {
   "cell_type": "code",
   "execution_count": 2,
   "metadata": {},
   "outputs": [],
   "source": [
    "np.random.seed(7)\n",
    "a1 = np.random.random_sample((5,6))\n"
   ]
  },
  {
   "cell_type": "code",
   "execution_count": 3,
   "metadata": {},
   "outputs": [],
   "source": [
    "np.random.seed(7)\n",
    "a2 = np.random.random_sample((5,6))"
   ]
  },
  {
   "cell_type": "code",
   "execution_count": 4,
   "metadata": {},
   "outputs": [
    {
     "data": {
      "text/plain": [
       "array([[0.07630829, 0.77991879, 0.43840923, 0.72346518, 0.97798951,\n",
       "        0.53849587],\n",
       "       [0.50112046, 0.07205113, 0.26843898, 0.4998825 , 0.67923   ,\n",
       "        0.80373904],\n",
       "       [0.38094113, 0.06593635, 0.2881456 , 0.90959353, 0.21338535,\n",
       "        0.45212396],\n",
       "       [0.93120602, 0.02489923, 0.60054892, 0.9501295 , 0.23030288,\n",
       "        0.54848992],\n",
       "       [0.90912837, 0.13316945, 0.52341258, 0.75040986, 0.66901324,\n",
       "        0.46775286]])"
      ]
     },
     "execution_count": 4,
     "metadata": {},
     "output_type": "execute_result"
    }
   ],
   "source": [
    "a1"
   ]
  },
  {
   "cell_type": "code",
   "execution_count": 5,
   "metadata": {},
   "outputs": [
    {
     "data": {
      "text/plain": [
       "array([[0.07630829, 0.77991879, 0.43840923, 0.72346518, 0.97798951,\n",
       "        0.53849587],\n",
       "       [0.50112046, 0.07205113, 0.26843898, 0.4998825 , 0.67923   ,\n",
       "        0.80373904],\n",
       "       [0.38094113, 0.06593635, 0.2881456 , 0.90959353, 0.21338535,\n",
       "        0.45212396],\n",
       "       [0.93120602, 0.02489923, 0.60054892, 0.9501295 , 0.23030288,\n",
       "        0.54848992],\n",
       "       [0.90912837, 0.13316945, 0.52341258, 0.75040986, 0.66901324,\n",
       "        0.46775286]])"
      ]
     },
     "execution_count": 5,
     "metadata": {},
     "output_type": "execute_result"
    }
   ],
   "source": [
    "a2"
   ]
  },
  {
   "cell_type": "markdown",
   "metadata": {},
   "source": [
    "2. Cread los siguientes arrays:\n",
    "* Un array de tres dimensiones con distribución uniforme de 2 x 3 x 5, con números entre 0 y 10, que no tengan decimales y extrae sus valores únicos almacenándolos en una variable."
   ]
  },
  {
   "cell_type": "code",
   "execution_count": 6,
   "metadata": {},
   "outputs": [
    {
     "data": {
      "text/plain": [
       "array([[[2., 5., 4., 5., 4.],\n",
       "        [8., 8., 3., 6., 3.],\n",
       "        [5., 4., 7., 4., 5.]],\n",
       "\n",
       "       [[7., 4., 9., 2., 7.],\n",
       "        [4., 4., 6., 5., 4.],\n",
       "        [0., 1., 7., 5., 7.]]])"
      ]
     },
     "execution_count": 6,
     "metadata": {},
     "output_type": "execute_result"
    }
   ],
   "source": [
    "a_uni = np.round(np.random.uniform(0,10, size = (2,3,5)), 0)\n",
    "a_uni"
   ]
  },
  {
   "cell_type": "markdown",
   "metadata": {},
   "source": [
    "* Un array de tres dimensiones con distribución binomial de 2 x 3 x 5, con probabilidad de 0.3 y número de pruebas igual a 10. Igual que antes guarda los datos en una variable."
   ]
  },
  {
   "cell_type": "code",
   "execution_count": 7,
   "metadata": {},
   "outputs": [
    {
     "data": {
      "text/plain": [
       "array([[[6, 4, 1, 2, 3],\n",
       "        [2, 6, 5, 4, 3],\n",
       "        [4, 1, 2, 3, 4]],\n",
       "\n",
       "       [[3, 1, 2, 2, 2],\n",
       "        [2, 3, 3, 4, 4],\n",
       "        [3, 3, 4, 5, 4]]])"
      ]
     },
     "execution_count": 7,
     "metadata": {},
     "output_type": "execute_result"
    }
   ],
   "source": [
    "a_bi = np.random.binomial(10, 0.3, size = (2,3,5))\n",
    "a_bi"
   ]
  },
  {
   "cell_type": "markdown",
   "metadata": {},
   "source": [
    "3. En esta lección hemos aprendido algunos métodos de teórias de conjuntos. Usando los arrays de elementos únicos obtenidos en el ejercicio anterior realizad las siguientes operaciones:\n",
    "* Elementos comunes entre los dos arrays"
   ]
  },
  {
   "cell_type": "code",
   "execution_count": 8,
   "metadata": {},
   "outputs": [
    {
     "data": {
      "text/plain": [
       "(array([1., 2., 3., 4., 5., 6.]),\n",
       " array([26,  0,  7,  2,  1,  8]),\n",
       " array([2, 3, 4, 1, 7, 0]))"
      ]
     },
     "execution_count": 8,
     "metadata": {},
     "output_type": "execute_result"
    }
   ],
   "source": [
    "np.intersect1d(a_uni, a_bi, return_indices=True)\n",
    "#el primer array nos devuelve los elementos comunes\n",
    "#el segundo array los indices de los elementos comunes en el a_uni\n",
    "#en el tercer array estan los indices de los elementos comunes del a_bi"
   ]
  },
  {
   "cell_type": "markdown",
   "metadata": {},
   "source": [
    "* Unión de los dos arrays"
   ]
  },
  {
   "cell_type": "code",
   "execution_count": 9,
   "metadata": {},
   "outputs": [
    {
     "data": {
      "text/plain": [
       "array([0., 1., 2., 3., 4., 5., 6., 7., 8., 9.])"
      ]
     },
     "execution_count": 9,
     "metadata": {},
     "output_type": "execute_result"
    }
   ],
   "source": [
    "np.union1d(a_uni, a_bi)\n",
    "# nos devuelve un array con todos los valares unicos de los dos arrays"
   ]
  },
  {
   "cell_type": "markdown",
   "metadata": {},
   "source": [
    "* ¿Qué elementos están en el array derivado de la distribución uniforme y no en los únicos de la distribución binomial? Extrae los valores númericos"
   ]
  },
  {
   "cell_type": "code",
   "execution_count": 10,
   "metadata": {},
   "outputs": [
    {
     "data": {
      "text/plain": [
       "array([0., 7., 8., 9.])"
      ]
     },
     "execution_count": 10,
     "metadata": {},
     "output_type": "execute_result"
    }
   ],
   "source": [
    "np.setdiff1d(a_uni, a_bi) \n",
    "#nos devuelve los elementos que estan en el a_uni pero no en a_bi"
   ]
  },
  {
   "cell_type": "markdown",
   "metadata": {},
   "source": [
    "⚠️ Explicar cada uno de los outputs que os salgan. Que significa cada una de estas operaciones que hemos ido extrayendo?"
   ]
  },
  {
   "cell_type": "markdown",
   "metadata": {},
   "source": [
    "4. Cread dos arrays usando el método random.randint de Numpy con 80 elementos cada uno con números del 1-100, con los siguientes nombres array1 y array2."
   ]
  },
  {
   "cell_type": "code",
   "execution_count": 28,
   "metadata": {},
   "outputs": [
    {
     "data": {
      "text/plain": [
       "array([50, 19, 57, 22, 51, 23, 19, 70,  6,  6, 71, 96, 30, 17, 43, 47, 69,\n",
       "       78, 67, 13, 55, 89, 92, 56, 17,  6, 94, 74, 45, 56, 40, 79, 71, 63,\n",
       "        3, 38, 87, 47, 10, 36, 16, 21, 33, 22, 71, 85,  1, 85, 34, 22, 67,\n",
       "       12, 48, 12, 37, 73, 44, 72, 54,  8, 22, 20, 87, 46, 51, 82, 34,  9,\n",
       "       80, 75, 19, 92, 60, 82, 91,  1, 73, 14, 25, 13])"
      ]
     },
     "execution_count": 28,
     "metadata": {},
     "output_type": "execute_result"
    }
   ],
   "source": [
    "array1 = np.random.randint(1,100, 80)\n",
    "array1"
   ]
  },
  {
   "cell_type": "code",
   "execution_count": 32,
   "metadata": {},
   "outputs": [
    {
     "data": {
      "text/plain": [
       "array([50, 99, 68, 97, 91, 82, 76,  2, 38, 38, 55, 74, 92, 84, 44, 51, 85,\n",
       "       67,  9, 63, 85, 58, 49, 75, 33, 67, 23, 68, 42, 29, 54, 80, 46, 74,\n",
       "       42, 37, 41, 13, 99, 37, 87, 70, 60, 80,  4, 38, 87, 47, 15, 20, 51,\n",
       "       38, 58, 88, 70, 89, 12, 27, 35, 81, 42, 84, 35, 64, 75, 69, 68,  5,\n",
       "        8, 59,  3, 40, 57, 75, 73, 94,  5,  1, 53, 88])"
      ]
     },
     "execution_count": 32,
     "metadata": {},
     "output_type": "execute_result"
    }
   ],
   "source": [
    "array2 = np.random.randint(1,100, 80)\n",
    "array2"
   ]
  },
  {
   "cell_type": "markdown",
   "metadata": {},
   "source": [
    "* Extraed los valores únicos de cada uno de los arrays y los guardáis en variables en las que se les llame array1 y array2."
   ]
  },
  {
   "cell_type": "code",
   "execution_count": 34,
   "metadata": {},
   "outputs": [
    {
     "data": {
      "text/plain": [
       "array([ 1,  3,  6,  8,  9, 10, 12, 13, 14, 16, 17, 19, 20, 21, 22, 23, 25,\n",
       "       30, 33, 34, 36, 37, 38, 40, 43, 44, 45, 46, 47, 48, 50, 51, 54, 55,\n",
       "       56, 57, 60, 63, 67, 69, 70, 71, 72, 73, 74, 75, 78, 79, 80, 82, 85,\n",
       "       87, 89, 91, 92, 94, 96])"
      ]
     },
     "execution_count": 34,
     "metadata": {},
     "output_type": "execute_result"
    }
   ],
   "source": [
    "array1 = np.unique(array1)\n",
    "array1"
   ]
  },
  {
   "cell_type": "code",
   "execution_count": 35,
   "metadata": {},
   "outputs": [
    {
     "data": {
      "text/plain": [
       "57"
      ]
     },
     "execution_count": 35,
     "metadata": {},
     "output_type": "execute_result"
    }
   ],
   "source": [
    "array1.size"
   ]
  },
  {
   "cell_type": "code",
   "execution_count": 36,
   "metadata": {},
   "outputs": [
    {
     "data": {
      "text/plain": [
       "array([ 1,  2,  3,  4,  5,  8,  9, 12, 13, 15, 20, 23, 27, 29, 33, 35, 37,\n",
       "       38, 40, 41, 42, 44, 46, 47, 49, 50, 51, 53, 54, 55, 57, 58, 59, 60,\n",
       "       63, 64, 67, 68, 69, 70, 73, 74, 75, 76, 80, 81, 82, 84, 85, 87, 88,\n",
       "       89, 91, 92, 94, 97, 99])"
      ]
     },
     "execution_count": 36,
     "metadata": {},
     "output_type": "execute_result"
    }
   ],
   "source": [
    "array2 = np.unique(array2)\n",
    "array2"
   ]
  },
  {
   "cell_type": "code",
   "execution_count": 37,
   "metadata": {},
   "outputs": [
    {
     "data": {
      "text/plain": [
       "57"
      ]
     },
     "execution_count": 37,
     "metadata": {},
     "output_type": "execute_result"
    }
   ],
   "source": [
    "array2.size"
   ]
  },
  {
   "cell_type": "markdown",
   "metadata": {},
   "source": [
    "* Identificad los elementos presentes en el array1 pero no en el array2 y asiganarlo a una variable que se llame array3."
   ]
  },
  {
   "cell_type": "code",
   "execution_count": 38,
   "metadata": {},
   "outputs": [
    {
     "data": {
      "text/plain": [
       "array([ 6, 10, 14, 16, 17, 19, 21, 22, 25, 30, 34, 36, 43, 45, 48, 56, 71,\n",
       "       72, 78, 79, 96])"
      ]
     },
     "execution_count": 38,
     "metadata": {},
     "output_type": "execute_result"
    }
   ],
   "source": [
    "array3 = np.setdiff1d(array1, array2)\n",
    "array3"
   ]
  },
  {
   "cell_type": "markdown",
   "metadata": {},
   "source": [
    "* Identificad los elementos presentes en el array2 pero no en el array1 y asiganarlo a una variable que se llame array4."
   ]
  },
  {
   "cell_type": "code",
   "execution_count": 39,
   "metadata": {},
   "outputs": [
    {
     "data": {
      "text/plain": [
       "array([ 2,  4,  5, 15, 27, 29, 35, 41, 42, 49, 53, 58, 59, 64, 68, 76, 81,\n",
       "       84, 88, 97, 99])"
      ]
     },
     "execution_count": 39,
     "metadata": {},
     "output_type": "execute_result"
    }
   ],
   "source": [
    "array4 = np.setdiff1d(array2, array1)\n",
    "array4"
   ]
  },
  {
   "cell_type": "markdown",
   "metadata": {},
   "source": [
    "* Identificad los elementos presentes en ambos arrays y asiganarlos a una variable que se llame array5."
   ]
  },
  {
   "cell_type": "code",
   "execution_count": 40,
   "metadata": {},
   "outputs": [
    {
     "data": {
      "text/plain": [
       "array([ 1,  3,  8,  9, 12, 13, 20, 23, 33, 37, 38, 40, 44, 46, 47, 50, 51,\n",
       "       54, 55, 57, 60, 63, 67, 69, 70, 73, 74, 75, 80, 82, 85, 87, 89, 91,\n",
       "       92, 94])"
      ]
     },
     "execution_count": 40,
     "metadata": {},
     "output_type": "execute_result"
    }
   ],
   "source": [
    "array5 = np.intersect1d(array1, array2)\n",
    "array5"
   ]
  },
  {
   "cell_type": "markdown",
   "metadata": {},
   "source": [
    "* ¿Cuál es la relación que existe entre todos estos arrays? 💡 Pista 💡 Tendréis que usar las longitudes de cada uno de los arrays creados."
   ]
  },
  {
   "cell_type": "code",
   "execution_count": 21,
   "metadata": {},
   "outputs": [],
   "source": [
    "# el array1 y el array2 fueron creados de forma aleatoria con las mismas condiciones\n",
    "# el array1 tenía más elementos repetidos que el array2  np.unique(array1) > np.unique(array2)"
   ]
  },
  {
   "cell_type": "code",
   "execution_count": 42,
   "metadata": {},
   "outputs": [
    {
     "data": {
      "text/plain": [
       "57"
      ]
     },
     "execution_count": 42,
     "metadata": {},
     "output_type": "execute_result"
    }
   ],
   "source": [
    "array1.size"
   ]
  },
  {
   "cell_type": "code",
   "execution_count": 43,
   "metadata": {},
   "outputs": [
    {
     "data": {
      "text/plain": [
       "57"
      ]
     },
     "execution_count": 43,
     "metadata": {},
     "output_type": "execute_result"
    }
   ],
   "source": [
    "array2.size"
   ]
  },
  {
   "cell_type": "code",
   "execution_count": 44,
   "metadata": {},
   "outputs": [
    {
     "data": {
      "text/plain": [
       "21"
      ]
     },
     "execution_count": 44,
     "metadata": {},
     "output_type": "execute_result"
    }
   ],
   "source": [
    "array3.size"
   ]
  },
  {
   "cell_type": "code",
   "execution_count": 45,
   "metadata": {},
   "outputs": [],
   "source": [
    "# el array3 contiene los elementos diferentes que tiene el array1 con respecto al array2. Osea los que solo están en array1"
   ]
  },
  {
   "cell_type": "code",
   "execution_count": 46,
   "metadata": {},
   "outputs": [
    {
     "data": {
      "text/plain": [
       "21"
      ]
     },
     "execution_count": 46,
     "metadata": {},
     "output_type": "execute_result"
    }
   ],
   "source": [
    "array4.size"
   ]
  },
  {
   "cell_type": "code",
   "execution_count": 47,
   "metadata": {},
   "outputs": [],
   "source": [
    "# el array4 contiene los elementos diferentes que tiene el array2 con respecto al array1. Osea los que solo están en array2\n",
    "# Por lo tanto el array 2 tiene más elemetos únicos propios que el array1.  np.unique(array1) > np.unique(array2) -- (array4.size) - (array2.size) = 4"
   ]
  },
  {
   "cell_type": "code",
   "execution_count": 48,
   "metadata": {},
   "outputs": [
    {
     "data": {
      "text/plain": [
       "36"
      ]
     },
     "execution_count": 48,
     "metadata": {},
     "output_type": "execute_result"
    }
   ],
   "source": [
    "array5.size"
   ]
  }
 ],
 "metadata": {
  "kernelspec": {
   "display_name": "Python 3.9.7 ('base')",
   "language": "python",
   "name": "python3"
  },
  "language_info": {
   "codemirror_mode": {
    "name": "ipython",
    "version": 3
   },
   "file_extension": ".py",
   "mimetype": "text/x-python",
   "name": "python",
   "nbconvert_exporter": "python",
   "pygments_lexer": "ipython3",
   "version": "3.9.7"
  },
  "orig_nbformat": 4,
  "vscode": {
   "interpreter": {
    "hash": "e52e54b208979dc3580fb1371da7079de391a2363b0575de5d9739fd636c0787"
   }
  }
 },
 "nbformat": 4,
 "nbformat_minor": 2
}
