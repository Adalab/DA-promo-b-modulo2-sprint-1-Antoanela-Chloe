{
 "cells": [
  {
   "cell_type": "markdown",
   "metadata": {},
   "source": [
    "1. Cread tres arrays: de una, dos y tres dimensiones.\n",
    "Lo podéis hacer usando los métodos de random que hemos aprendido o a través de listas em algunos casos.\n",
    "\n",
    "📌 Nota\n",
    "* El array de 2 dimensiones debe ser de 2 filas y 3 columnas\n",
    "* El array de 3 dimensiones debe ser de 2 matrices, 3 filas y 5 columnas"
   ]
  },
  {
   "cell_type": "code",
<<<<<<< HEAD:numpy/pp-modulo-2-sprint-1-numpy1-ejercicio-1.ipynb
   "execution_count": 2,
=======
   "execution_count": 41,
>>>>>>> refs/remotes/origin/main:numpy/pp-python-modulo-2-sprint-1-numpy-ejercicio-1-numpy1.ipynb
   "metadata": {},
   "outputs": [],
   "source": [
    "import numpy as np"
   ]
  },
  {
   "cell_type": "code",
<<<<<<< HEAD:numpy/pp-modulo-2-sprint-1-numpy1-ejercicio-1.ipynb
   "execution_count": 3,
=======
   "execution_count": 42,
>>>>>>> refs/remotes/origin/main:numpy/pp-python-modulo-2-sprint-1-numpy-ejercicio-1-numpy1.ipynb
   "metadata": {},
   "outputs": [],
   "source": [
    "a1 = np.random.rand(2)\n",
    "a2 = np.random.rand(2,3)\n",
    "a3 = np.random.rand(2,3,5)"
   ]
  },
  {
   "cell_type": "code",
<<<<<<< HEAD:numpy/pp-modulo-2-sprint-1-numpy1-ejercicio-1.ipynb
   "execution_count": 4,
=======
   "execution_count": 43,
>>>>>>> refs/remotes/origin/main:numpy/pp-python-modulo-2-sprint-1-numpy-ejercicio-1-numpy1.ipynb
   "metadata": {},
   "outputs": [
    {
     "data": {
      "text/plain": [
<<<<<<< HEAD:numpy/pp-modulo-2-sprint-1-numpy1-ejercicio-1.ipynb
       "array([0.42149357, 0.82407824])"
      ]
     },
     "execution_count": 4,
=======
       "array([0.20349601, 0.63134759])"
      ]
     },
     "execution_count": 43,
>>>>>>> refs/remotes/origin/main:numpy/pp-python-modulo-2-sprint-1-numpy-ejercicio-1-numpy1.ipynb
     "metadata": {},
     "output_type": "execute_result"
    }
   ],
   "source": [
    "a1"
   ]
  },
  {
   "cell_type": "code",
<<<<<<< HEAD:numpy/pp-modulo-2-sprint-1-numpy1-ejercicio-1.ipynb
   "execution_count": 5,
=======
   "execution_count": 44,
>>>>>>> refs/remotes/origin/main:numpy/pp-python-modulo-2-sprint-1-numpy-ejercicio-1-numpy1.ipynb
   "metadata": {},
   "outputs": [
    {
     "data": {
      "text/plain": [
<<<<<<< HEAD:numpy/pp-modulo-2-sprint-1-numpy1-ejercicio-1.ipynb
       "array([[0.80843375, 0.07077994, 0.02429875],\n",
       "       [0.69214198, 0.52905165, 0.78787878]])"
      ]
     },
     "execution_count": 5,
=======
       "array([[0.08628814, 0.72072605, 0.67036131],\n",
       "       [0.58440612, 0.66813976, 0.3757746 ]])"
      ]
     },
     "execution_count": 44,
>>>>>>> refs/remotes/origin/main:numpy/pp-python-modulo-2-sprint-1-numpy-ejercicio-1-numpy1.ipynb
     "metadata": {},
     "output_type": "execute_result"
    }
   ],
   "source": [
    "a2"
   ]
  },
  {
   "cell_type": "code",
<<<<<<< HEAD:numpy/pp-modulo-2-sprint-1-numpy1-ejercicio-1.ipynb
   "execution_count": 6,
=======
   "execution_count": 45,
>>>>>>> refs/remotes/origin/main:numpy/pp-python-modulo-2-sprint-1-numpy-ejercicio-1-numpy1.ipynb
   "metadata": {},
   "outputs": [
    {
     "data": {
      "text/plain": [
<<<<<<< HEAD:numpy/pp-modulo-2-sprint-1-numpy1-ejercicio-1.ipynb
       "array([[[0.23379052, 0.44807524, 0.24444094, 0.11412444, 0.82854217],\n",
       "        [0.94291905, 0.3354447 , 0.90919066, 0.11902033, 0.95090266],\n",
       "        [0.88066322, 0.40384868, 0.02485785, 0.24791155, 0.32691974]],\n",
       "\n",
       "       [[0.75161743, 0.54157565, 0.96234186, 0.93045949, 0.71236742],\n",
       "        [0.37676018, 0.44735072, 0.69769846, 0.12894291, 0.95927633],\n",
       "        [0.5642161 , 0.53822724, 0.83734088, 0.56779887, 0.80224642]]])"
      ]
     },
     "execution_count": 6,
=======
       "array([[[0.89457292, 0.18303206, 0.68476245, 0.93759513, 0.83919331],\n",
       "        [0.21028486, 0.22026377, 0.02874689, 0.02643883, 0.79020775],\n",
       "        [0.37010499, 0.60718987, 0.87348024, 0.59222492, 0.39365621]],\n",
       "\n",
       "       [[0.42708101, 0.52901705, 0.96753858, 0.73668901, 0.95215725],\n",
       "        [0.59730392, 0.98967435, 0.44293459, 0.485005  , 0.60758299],\n",
       "        [0.65405183, 0.36185767, 0.40246233, 0.68849411, 0.90152511]]])"
      ]
     },
     "execution_count": 45,
>>>>>>> refs/remotes/origin/main:numpy/pp-python-modulo-2-sprint-1-numpy-ejercicio-1-numpy1.ipynb
     "metadata": {},
     "output_type": "execute_result"
    }
   ],
   "source": [
    "a3"
   ]
  },
  {
   "cell_type": "markdown",
   "metadata": {},
   "source": [
    "2. Chequed las las propiedades básicas de cada array que os hayáis creado. Usad en una función que nos devuelva las propiedades de una array que le pasemos."
   ]
  },
  {
   "cell_type": "code",
<<<<<<< HEAD:numpy/pp-modulo-2-sprint-1-numpy1-ejercicio-1.ipynb
   "execution_count": 7,
=======
   "execution_count": 46,
>>>>>>> refs/remotes/origin/main:numpy/pp-python-modulo-2-sprint-1-numpy-ejercicio-1-numpy1.ipynb
   "metadata": {},
   "outputs": [
    {
     "data": {
      "text/plain": [
       "(2,)"
      ]
     },
<<<<<<< HEAD:numpy/pp-modulo-2-sprint-1-numpy1-ejercicio-1.ipynb
     "execution_count": 7,
=======
     "execution_count": 46,
>>>>>>> refs/remotes/origin/main:numpy/pp-python-modulo-2-sprint-1-numpy-ejercicio-1-numpy1.ipynb
     "metadata": {},
     "output_type": "execute_result"
    }
   ],
   "source": [
    "# forma\n",
    "a1.shape"
   ]
  },
  {
   "cell_type": "code",
<<<<<<< HEAD:numpy/pp-modulo-2-sprint-1-numpy1-ejercicio-1.ipynb
   "execution_count": 8,
=======
   "execution_count": 47,
>>>>>>> refs/remotes/origin/main:numpy/pp-python-modulo-2-sprint-1-numpy-ejercicio-1-numpy1.ipynb
   "metadata": {},
   "outputs": [
    {
     "data": {
      "text/plain": [
       "(2, 3)"
      ]
     },
<<<<<<< HEAD:numpy/pp-modulo-2-sprint-1-numpy1-ejercicio-1.ipynb
     "execution_count": 8,
=======
     "execution_count": 47,
>>>>>>> refs/remotes/origin/main:numpy/pp-python-modulo-2-sprint-1-numpy-ejercicio-1-numpy1.ipynb
     "metadata": {},
     "output_type": "execute_result"
    }
   ],
   "source": [
    "a2.shape"
   ]
  },
  {
   "cell_type": "code",
<<<<<<< HEAD:numpy/pp-modulo-2-sprint-1-numpy1-ejercicio-1.ipynb
   "execution_count": 9,
=======
   "execution_count": 48,
>>>>>>> refs/remotes/origin/main:numpy/pp-python-modulo-2-sprint-1-numpy-ejercicio-1-numpy1.ipynb
   "metadata": {},
   "outputs": [
    {
     "data": {
      "text/plain": [
       "(2, 3, 5)"
      ]
     },
<<<<<<< HEAD:numpy/pp-modulo-2-sprint-1-numpy1-ejercicio-1.ipynb
     "execution_count": 9,
=======
     "execution_count": 48,
>>>>>>> refs/remotes/origin/main:numpy/pp-python-modulo-2-sprint-1-numpy-ejercicio-1-numpy1.ipynb
     "metadata": {},
     "output_type": "execute_result"
    }
   ],
   "source": [
    "a3.shape"
   ]
  },
  {
   "cell_type": "code",
<<<<<<< HEAD:numpy/pp-modulo-2-sprint-1-numpy1-ejercicio-1.ipynb
   "execution_count": 10,
=======
   "execution_count": 49,
>>>>>>> refs/remotes/origin/main:numpy/pp-python-modulo-2-sprint-1-numpy-ejercicio-1-numpy1.ipynb
   "metadata": {},
   "outputs": [
    {
     "data": {
      "text/plain": [
       "2"
      ]
     },
<<<<<<< HEAD:numpy/pp-modulo-2-sprint-1-numpy1-ejercicio-1.ipynb
     "execution_count": 10,
=======
     "execution_count": 49,
>>>>>>> refs/remotes/origin/main:numpy/pp-python-modulo-2-sprint-1-numpy-ejercicio-1-numpy1.ipynb
     "metadata": {},
     "output_type": "execute_result"
    }
   ],
   "source": [
    "# tamaño (número de elementos)\n",
    "a1.size"
   ]
  },
  {
   "cell_type": "code",
<<<<<<< HEAD:numpy/pp-modulo-2-sprint-1-numpy1-ejercicio-1.ipynb
   "execution_count": 11,
=======
   "execution_count": 50,
>>>>>>> refs/remotes/origin/main:numpy/pp-python-modulo-2-sprint-1-numpy-ejercicio-1-numpy1.ipynb
   "metadata": {},
   "outputs": [
    {
     "data": {
      "text/plain": [
       "6"
      ]
     },
<<<<<<< HEAD:numpy/pp-modulo-2-sprint-1-numpy1-ejercicio-1.ipynb
     "execution_count": 11,
=======
     "execution_count": 50,
>>>>>>> refs/remotes/origin/main:numpy/pp-python-modulo-2-sprint-1-numpy-ejercicio-1-numpy1.ipynb
     "metadata": {},
     "output_type": "execute_result"
    }
   ],
   "source": [
    "a2.size"
   ]
  },
  {
   "cell_type": "code",
<<<<<<< HEAD:numpy/pp-modulo-2-sprint-1-numpy1-ejercicio-1.ipynb
   "execution_count": 12,
=======
   "execution_count": 51,
>>>>>>> refs/remotes/origin/main:numpy/pp-python-modulo-2-sprint-1-numpy-ejercicio-1-numpy1.ipynb
   "metadata": {},
   "outputs": [
    {
     "data": {
      "text/plain": [
       "30"
      ]
     },
<<<<<<< HEAD:numpy/pp-modulo-2-sprint-1-numpy1-ejercicio-1.ipynb
     "execution_count": 12,
=======
     "execution_count": 51,
>>>>>>> refs/remotes/origin/main:numpy/pp-python-modulo-2-sprint-1-numpy-ejercicio-1-numpy1.ipynb
     "metadata": {},
     "output_type": "execute_result"
    }
   ],
   "source": [
    "a3.size"
   ]
  },
  {
   "cell_type": "code",
<<<<<<< HEAD:numpy/pp-modulo-2-sprint-1-numpy1-ejercicio-1.ipynb
   "execution_count": 13,
=======
   "execution_count": 52,
>>>>>>> refs/remotes/origin/main:numpy/pp-python-modulo-2-sprint-1-numpy-ejercicio-1-numpy1.ipynb
   "metadata": {},
   "outputs": [
    {
     "data": {
      "text/plain": [
       "1"
      ]
     },
<<<<<<< HEAD:numpy/pp-modulo-2-sprint-1-numpy1-ejercicio-1.ipynb
     "execution_count": 13,
=======
     "execution_count": 52,
>>>>>>> refs/remotes/origin/main:numpy/pp-python-modulo-2-sprint-1-numpy-ejercicio-1-numpy1.ipynb
     "metadata": {},
     "output_type": "execute_result"
    }
   ],
   "source": [
    "# dimensiones\n",
    "a1.ndim"
   ]
  },
  {
   "cell_type": "code",
<<<<<<< HEAD:numpy/pp-modulo-2-sprint-1-numpy1-ejercicio-1.ipynb
   "execution_count": 14,
=======
   "execution_count": 53,
>>>>>>> refs/remotes/origin/main:numpy/pp-python-modulo-2-sprint-1-numpy-ejercicio-1-numpy1.ipynb
   "metadata": {},
   "outputs": [
    {
     "data": {
      "text/plain": [
       "2"
      ]
     },
<<<<<<< HEAD:numpy/pp-modulo-2-sprint-1-numpy1-ejercicio-1.ipynb
     "execution_count": 14,
=======
     "execution_count": 53,
>>>>>>> refs/remotes/origin/main:numpy/pp-python-modulo-2-sprint-1-numpy-ejercicio-1-numpy1.ipynb
     "metadata": {},
     "output_type": "execute_result"
    }
   ],
   "source": [
    "a2.ndim"
   ]
  },
  {
   "cell_type": "code",
<<<<<<< HEAD:numpy/pp-modulo-2-sprint-1-numpy1-ejercicio-1.ipynb
   "execution_count": 15,
=======
   "execution_count": 54,
>>>>>>> refs/remotes/origin/main:numpy/pp-python-modulo-2-sprint-1-numpy-ejercicio-1-numpy1.ipynb
   "metadata": {},
   "outputs": [
    {
     "data": {
      "text/plain": [
       "3"
      ]
     },
<<<<<<< HEAD:numpy/pp-modulo-2-sprint-1-numpy1-ejercicio-1.ipynb
     "execution_count": 15,
=======
     "execution_count": 54,
     "metadata": {},
     "output_type": "execute_result"
    }
   ],
   "source": [
    "a3.ndim"
   ]
  },
  {
   "cell_type": "code",
   "execution_count": 55,
   "metadata": {},
   "outputs": [
    {
     "data": {
      "text/plain": [
       "dtype('float64')"
      ]
     },
     "execution_count": 55,
>>>>>>> refs/remotes/origin/main:numpy/pp-python-modulo-2-sprint-1-numpy-ejercicio-1-numpy1.ipynb
     "metadata": {},
     "output_type": "execute_result"
    }
   ],
   "source": [
    "a3.ndim"
   ]
  },
  {
   "cell_type": "code",
   "execution_count": 56,
   "metadata": {},
   "outputs": [
    {
     "data": {
      "text/plain": [
       "dtype('float64')"
      ]
     },
     "execution_count": 56,
     "metadata": {},
     "output_type": "execute_result"
    }
   ],
   "source": [
    "# tipo de datos que contienen\n",
    "a1.dtype"
   ]
  },
  {
   "cell_type": "code",
   "execution_count": 57,
   "metadata": {},
   "outputs": [
    {
     "data": {
      "text/plain": [
       "dtype('float64')"
      ]
     },
     "execution_count": 57,
     "metadata": {},
     "output_type": "execute_result"
    }
   ],
   "source": [
    "a2.dtype"
   ]
  },
  {
   "cell_type": "code",
   "execution_count": 18,
   "metadata": {},
   "outputs": [
    {
     "data": {
      "text/plain": [
       "dtype('float64')"
      ]
     },
     "execution_count": 18,
     "metadata": {},
     "output_type": "execute_result"
    }
   ],
   "source": [
    "a3.dtype"
   ]
  },
  {
   "cell_type": "markdown",
   "metadata": {},
   "source": [
    "3. Cread una matriz identidad de dos dimensiones de 3 filas y 3 columnas"
   ]
  },
  {
   "cell_type": "code",
<<<<<<< HEAD:numpy/pp-modulo-2-sprint-1-numpy1-ejercicio-1.ipynb
   "execution_count": 22,
=======
   "execution_count": 58,
>>>>>>> refs/remotes/origin/main:numpy/pp-python-modulo-2-sprint-1-numpy-ejercicio-1-numpy1.ipynb
   "metadata": {},
   "outputs": [
    {
     "data": {
      "text/plain": [
       "array([[1., 0., 0.],\n",
       "       [0., 1., 0.],\n",
       "       [0., 0., 1.]])"
      ]
     },
<<<<<<< HEAD:numpy/pp-modulo-2-sprint-1-numpy1-ejercicio-1.ipynb
     "execution_count": 22,
=======
     "execution_count": 58,
>>>>>>> refs/remotes/origin/main:numpy/pp-python-modulo-2-sprint-1-numpy-ejercicio-1-numpy1.ipynb
     "metadata": {},
     "output_type": "execute_result"
    }
   ],
   "source": [
    "a_id = np.identity(3)\n",
    "a_id"
   ]
  },
  {
   "cell_type": "markdown",
   "metadata": {},
   "source": [
    "4. Cread una matriz de tres dimensiones de unos igual a la martiz de tres dimensiones creada en el primer ejercicio."
   ]
  },
  {
   "cell_type": "code",
   "execution_count": 59,
   "metadata": {},
   "outputs": [
    {
     "data": {
      "text/plain": [
       "array([[[1., 1., 1., 1., 1.],\n",
       "        [1., 1., 1., 1., 1.],\n",
       "        [1., 1., 1., 1., 1.]],\n",
       "\n",
       "       [[1., 1., 1., 1., 1.],\n",
       "        [1., 1., 1., 1., 1.],\n",
       "        [1., 1., 1., 1., 1.]]])"
      ]
     },
     "execution_count": 59,
     "metadata": {},
     "output_type": "execute_result"
    }
   ],
   "source": [
    "a_ones = np.ones_like(a3)\n",
    "a_ones"
   ]
  },
  {
   "cell_type": "markdown",
   "metadata": {},
   "source": [
    "5. Es el momento de hacer algunas operaciones entre arrays\n",
    "* ¿Se puede sumar el array de dos dimensiones que creamos en el primer ejecicios a la matriz identidad? ¿Por qué?"
   ]
  },
  {
   "cell_type": "code",
<<<<<<< HEAD:numpy/pp-modulo-2-sprint-1-numpy1-ejercicio-1.ipynb
   "execution_count": null,
   "metadata": {},
   "outputs": [],
   "source": [
    "# no se pueden sumar, porque no tienen la misma forma 'ValueError: operands could not be broadcast together with shapes (2,3) (3,3)'"
   ]
  },
  {
   "cell_type": "code",
   "execution_count": 24,
=======
   "execution_count": 60,
>>>>>>> refs/remotes/origin/main:numpy/pp-python-modulo-2-sprint-1-numpy-ejercicio-1-numpy1.ipynb
   "metadata": {},
   "outputs": [
    {
     "ename": "ValueError",
     "evalue": "operands could not be broadcast together with shapes (2,3) (3,3) ",
     "output_type": "error",
     "traceback": [
      "\u001b[0;31m---------------------------------------------------------------------------\u001b[0m",
      "\u001b[0;31mValueError\u001b[0m                                Traceback (most recent call last)",
<<<<<<< HEAD:numpy/pp-modulo-2-sprint-1-numpy1-ejercicio-1.ipynb
      "\u001b[0;32m/tmp/ipykernel_20477/2504176444.py\u001b[0m in \u001b[0;36m<module>\u001b[0;34m\u001b[0m\n\u001b[0;32m----> 1\u001b[0;31m \u001b[0ma2\u001b[0m \u001b[0;34m+\u001b[0m \u001b[0ma_id\u001b[0m\u001b[0;34m\u001b[0m\u001b[0;34m\u001b[0m\u001b[0m\n\u001b[0m",
=======
      "\u001b[0;32m/tmp/ipykernel_1188/2504176444.py\u001b[0m in \u001b[0;36m<module>\u001b[0;34m\u001b[0m\n\u001b[0;32m----> 1\u001b[0;31m \u001b[0ma2\u001b[0m \u001b[0;34m+\u001b[0m \u001b[0ma_id\u001b[0m\u001b[0;34m\u001b[0m\u001b[0;34m\u001b[0m\u001b[0m\n\u001b[0m",
>>>>>>> refs/remotes/origin/main:numpy/pp-python-modulo-2-sprint-1-numpy-ejercicio-1-numpy1.ipynb
      "\u001b[0;31mValueError\u001b[0m: operands could not be broadcast together with shapes (2,3) (3,3) "
     ]
    }
   ],
   "source": [
    "a2 + a_id"
   ]
  },
  {
   "cell_type": "code",
   "execution_count": null,
   "metadata": {},
   "outputs": [
    {
     "ename": "ValueError",
     "evalue": "operands could not be broadcast together with shapes (2,3) (3,3) ",
     "output_type": "error",
     "traceback": [
      "\u001b[0;31m---------------------------------------------------------------------------\u001b[0m",
      "\u001b[0;31mValueError\u001b[0m                                Traceback (most recent call last)",
      "\u001b[0;32m/tmp/ipykernel_2295/2147541877.py\u001b[0m in \u001b[0;36m<module>\u001b[0;34m\u001b[0m\n\u001b[0;32m----> 1\u001b[0;31m \u001b[0msuma\u001b[0m \u001b[0;34m=\u001b[0m \u001b[0mnp\u001b[0m\u001b[0;34m.\u001b[0m\u001b[0madd\u001b[0m\u001b[0;34m(\u001b[0m\u001b[0ma2\u001b[0m\u001b[0;34m,\u001b[0m \u001b[0ma_id\u001b[0m\u001b[0;34m)\u001b[0m\u001b[0;34m\u001b[0m\u001b[0;34m\u001b[0m\u001b[0m\n\u001b[0m",
      "\u001b[0;31mValueError\u001b[0m: operands could not be broadcast together with shapes (2,3) (3,3) "
     ]
    }
   ],
   "source": [
    "suma = np.add(a2, a_id)"
   ]
  },
  {
<<<<<<< HEAD:numpy/pp-modulo-2-sprint-1-numpy1-ejercicio-1.ipynb
=======
   "cell_type": "code",
   "execution_count": null,
   "metadata": {},
   "outputs": [],
   "source": [
    "# No se pueden sumar, porque no tienen la misma forma: 'ValueError: operands could not be broadcast together with shapes (2,3) (3,3)'"
   ]
  },
  {
>>>>>>> refs/remotes/origin/main:numpy/pp-python-modulo-2-sprint-1-numpy-ejercicio-1-numpy1.ipynb
   "cell_type": "markdown",
   "metadata": {},
   "source": [
    "* En caso de que no se puedan sumar, busca una solución para sumar una matriz identidad a otra. La solución puede ser crear un array nuevo."
   ]
  },
  {
   "cell_type": "code",
<<<<<<< HEAD:numpy/pp-modulo-2-sprint-1-numpy1-ejercicio-1.ipynb
   "execution_count": 25,
=======
   "execution_count": 61,
>>>>>>> refs/remotes/origin/main:numpy/pp-python-modulo-2-sprint-1-numpy-ejercicio-1-numpy1.ipynb
   "metadata": {},
   "outputs": [
    {
     "data": {
      "text/plain": [
       "array([[1., 0., 0.],\n",
       "       [0., 1., 0.],\n",
       "       [0., 0., 1.]])"
      ]
     },
<<<<<<< HEAD:numpy/pp-modulo-2-sprint-1-numpy1-ejercicio-1.ipynb
     "execution_count": 25,
=======
     "execution_count": 61,
>>>>>>> refs/remotes/origin/main:numpy/pp-python-modulo-2-sprint-1-numpy-ejercicio-1-numpy1.ipynb
     "metadata": {},
     "output_type": "execute_result"
    }
   ],
   "source": [
    "# Como entendermos que queremos conservar la matriz identidad como sumando, podemos crear una matriz a semejanza de a_id:\n",
    "a4 = np.empty_like(a_id)\n",
    "a4"
   ]
  },
  {
   "cell_type": "code",
<<<<<<< HEAD:numpy/pp-modulo-2-sprint-1-numpy1-ejercicio-1.ipynb
   "execution_count": 26,
=======
   "execution_count": 62,
>>>>>>> refs/remotes/origin/main:numpy/pp-python-modulo-2-sprint-1-numpy-ejercicio-1-numpy1.ipynb
   "metadata": {},
   "outputs": [
    {
     "data": {
      "text/plain": [
       "array([[2., 0., 0.],\n",
       "       [0., 2., 0.],\n",
       "       [0., 0., 2.]])"
      ]
     },
<<<<<<< HEAD:numpy/pp-modulo-2-sprint-1-numpy1-ejercicio-1.ipynb
     "execution_count": 26,
=======
     "execution_count": 62,
>>>>>>> refs/remotes/origin/main:numpy/pp-python-modulo-2-sprint-1-numpy-ejercicio-1-numpy1.ipynb
     "metadata": {},
     "output_type": "execute_result"
    }
   ],
   "source": [
    "a4 + a_id"
   ]
  },
  {
   "cell_type": "code",
   "execution_count": 63,
   "metadata": {},
   "outputs": [
    {
     "data": {
      "text/plain": [
       "array([[ 4,  0,  6],\n",
       "       [11,  4, 12],\n",
       "       [ 0,  4,  3]])"
      ]
     },
     "execution_count": 63,
     "metadata": {},
     "output_type": "execute_result"
    }
   ],
   "source": [
    "# O podemos crear una matriz aleatoria con las dimensiones de a_id:\n",
    "\n",
    "a5 = np.random.randint(0,15, (3,3))\n",
    "a5"
   ]
  },
  {
   "cell_type": "code",
   "execution_count": 64,
   "metadata": {},
   "outputs": [
    {
     "data": {
      "text/plain": [
       "array([[ 5.,  0.,  6.],\n",
       "       [11.,  5., 12.],\n",
       "       [ 0.,  4.,  4.]])"
      ]
     },
     "execution_count": 64,
     "metadata": {},
     "output_type": "execute_result"
    }
   ],
   "source": [
    "np.add(a5, a_id)"
   ]
  },
  {
   "cell_type": "markdown",
   "metadata": {},
   "source": [
    "* Multiplicad la matriz identidad por la nueva matriz que os creasteis en el ejercicio anterior."
   ]
  },
  {
   "cell_type": "code",
<<<<<<< HEAD:numpy/pp-modulo-2-sprint-1-numpy1-ejercicio-1.ipynb
   "execution_count": 27,
   "metadata": {},
   "outputs": [
    {
     "data": {
      "text/plain": [
       "array([[1., 0., 0.],\n",
       "       [0., 1., 0.],\n",
       "       [0., 0., 1.]])"
      ]
     },
     "execution_count": 27,
     "metadata": {},
     "output_type": "execute_result"
    }
   ],
   "source": [
    "a_id * a4"
   ]
  },
  {
   "cell_type": "code",
   "execution_count": 28,
=======
   "execution_count": 65,
>>>>>>> refs/remotes/origin/main:numpy/pp-python-modulo-2-sprint-1-numpy-ejercicio-1-numpy1.ipynb
   "metadata": {},
   "outputs": [
    {
     "data": {
      "text/plain": [
       "array([[1., 0., 0.],\n",
       "       [0., 1., 0.],\n",
       "       [0., 0., 1.]])"
      ]
     },
     "execution_count": 65,
     "metadata": {},
     "output_type": "execute_result"
    }
   ],
   "source": [
<<<<<<< HEAD:numpy/pp-modulo-2-sprint-1-numpy1-ejercicio-1.ipynb
=======
    "a_id * a4"
   ]
  },
  {
   "cell_type": "code",
   "execution_count": 66,
   "metadata": {},
   "outputs": [
    {
     "data": {
      "text/plain": [
       "array([[1., 0., 0.],\n",
       "       [0., 1., 0.],\n",
       "       [0., 0., 1.]])"
      ]
     },
     "execution_count": 66,
     "metadata": {},
     "output_type": "execute_result"
    }
   ],
   "source": [
>>>>>>> refs/remotes/origin/main:numpy/pp-python-modulo-2-sprint-1-numpy-ejercicio-1-numpy1.ipynb
    "np.multiply(a_id, a4)"
   ]
  },
  {
   "cell_type": "code",
   "execution_count": null,
   "metadata": {},
   "outputs": [
    {
     "ename": "ValueError",
     "evalue": "operands could not be broadcast together with shapes (3,3) (2,3) ",
     "output_type": "error",
     "traceback": [
      "\u001b[0;31m---------------------------------------------------------------------------\u001b[0m",
      "\u001b[0;31mValueError\u001b[0m                                Traceback (most recent call last)",
      "\u001b[0;32m/tmp/ipykernel_2295/4104096655.py\u001b[0m in \u001b[0;36m<module>\u001b[0;34m\u001b[0m\n\u001b[1;32m      1\u001b[0m \u001b[0;31m# probamos a multiplicar a_id con la matriz a2\u001b[0m\u001b[0;34m\u001b[0m\u001b[0;34m\u001b[0m\u001b[0m\n\u001b[0;32m----> 2\u001b[0;31m \u001b[0ma_id\u001b[0m \u001b[0;34m*\u001b[0m \u001b[0ma2\u001b[0m\u001b[0;34m\u001b[0m\u001b[0;34m\u001b[0m\u001b[0m\n\u001b[0m",
      "\u001b[0;31mValueError\u001b[0m: operands could not be broadcast together with shapes (3,3) (2,3) "
     ]
    }
   ],
   "source": [
    "#EXTRA\n",
    "# probamos a multiplicar a_id con la matriz a2, ya que el producto matricial se puede hacer cuando las matrices tienen el numero de filas = numero de columnas de la otra\n",
    "a_id * a2"
   ]
  },
  {
   "cell_type": "code",
   "execution_count": null,
<<<<<<< HEAD:numpy/pp-modulo-2-sprint-1-numpy1-ejercicio-1.ipynb
   "metadata": {},
   "outputs": [
    {
     "ename": "ValueError",
     "evalue": "operands could not be broadcast together with shapes (3,3) (3,4) ",
     "output_type": "error",
     "traceback": [
      "\u001b[0;31m---------------------------------------------------------------------------\u001b[0m",
      "\u001b[0;31mValueError\u001b[0m                                Traceback (most recent call last)",
      "\u001b[0;32m/tmp/ipykernel_2295/2885719431.py\u001b[0m in \u001b[0;36m<module>\u001b[0;34m\u001b[0m\n\u001b[1;32m      1\u001b[0m \u001b[0;31m# si coinciden el numero de columnas de a_id con el numero de filas de otra matriz, ¿se pueden multiplicar?\u001b[0m\u001b[0;34m\u001b[0m\u001b[0;34m\u001b[0m\u001b[0m\n\u001b[0;32m----> 2\u001b[0;31m \u001b[0ma_id\u001b[0m \u001b[0;34m*\u001b[0m \u001b[0ma5\u001b[0m\u001b[0;34m\u001b[0m\u001b[0;34m\u001b[0m\u001b[0m\n\u001b[0m",
      "\u001b[0;31mValueError\u001b[0m: operands could not be broadcast together with shapes (3,3) (3,4) "
     ]
    }
   ],
   "source": [
    "# probamos lo que dijimios en clase:\n",
    "# si coinciden el numero de columnas de a_id con el numero de filas de otra matriz, ¿se pueden multiplicar?\n"
   ]
  },
  {
   "cell_type": "code",
   "execution_count": null,
=======
>>>>>>> refs/remotes/origin/main:numpy/pp-python-modulo-2-sprint-1-numpy-ejercicio-1-numpy1.ipynb
   "metadata": {},
   "outputs": [
    {
     "data": {
      "text/plain": [
       "array([[0.49810236, 0.13777818, 0.1443404 , 0.99090662],\n",
       "       [0.18733741, 0.56218448, 0.8790324 , 0.84011391],\n",
       "       [0.64462216, 0.84181708, 0.79168302, 0.24842595]])"
      ]
     },
     "execution_count": 35,
     "metadata": {},
     "output_type": "execute_result"
    }
   ],
   "source": [
    "# probamos lo que dijimios en clase:\n",
    "# si coinciden el numero de columnas de a_id con el numero de filas de otra matriz, ¿se pueden multiplicar?\n",
    "# creamos nueva matriz con el mismo numero de filas que columnas tiene a_id\n",
    "a6 = np.random.rand(3,4)\n",
    "a6"
   ]
  },
  {
   "cell_type": "code",
   "execution_count": null,
<<<<<<< HEAD:numpy/pp-modulo-2-sprint-1-numpy1-ejercicio-1.ipynb
   "metadata": {},
   "outputs": [
    {
     "ename": "ValueError",
     "evalue": "operands could not be broadcast together with shapes (3,3) (3,4) ",
     "output_type": "error",
     "traceback": [
      "\u001b[0;31m---------------------------------------------------------------------------\u001b[0m",
      "\u001b[0;31mValueError\u001b[0m                                Traceback (most recent call last)",
      "\u001b[0;32m/tmp/ipykernel_2295/225872268.py\u001b[0m in \u001b[0;36m<module>\u001b[0;34m\u001b[0m\n\u001b[0;32m----> 1\u001b[0;31m \u001b[0ma_id\u001b[0m \u001b[0;34m*\u001b[0m \u001b[0ma5\u001b[0m\u001b[0;34m\u001b[0m\u001b[0;34m\u001b[0m\u001b[0m\n\u001b[0m",
      "\u001b[0;31mValueError\u001b[0m: operands could not be broadcast together with shapes (3,3) (3,4) "
     ]
    }
   ],
   "source": [
    "a_id * a5"
   ]
  },
  {
   "cell_type": "code",
   "execution_count": null,
=======
>>>>>>> refs/remotes/origin/main:numpy/pp-python-modulo-2-sprint-1-numpy-ejercicio-1-numpy1.ipynb
   "metadata": {},
   "outputs": [
    {
     "ename": "ValueError",
     "evalue": "operands could not be broadcast together with shapes (3,4) (3,3) ",
     "output_type": "error",
     "traceback": [
      "\u001b[0;31m---------------------------------------------------------------------------\u001b[0m",
      "\u001b[0;31mValueError\u001b[0m                                Traceback (most recent call last)",
      "\u001b[0;32m/tmp/ipykernel_1188/2331672713.py\u001b[0m in \u001b[0;36m<module>\u001b[0;34m\u001b[0m\n\u001b[0;32m----> 1\u001b[0;31m \u001b[0ma6\u001b[0m \u001b[0;34m*\u001b[0m \u001b[0ma_id\u001b[0m\u001b[0;34m\u001b[0m\u001b[0;34m\u001b[0m\u001b[0m\n\u001b[0m",
      "\u001b[0;31mValueError\u001b[0m: operands could not be broadcast together with shapes (3,4) (3,3) "
     ]
    }
   ],
   "source": [
    "a6 * a_id"
   ]
  },
  {
   "cell_type": "code",
   "execution_count": null,
   "metadata": {},
   "outputs": [
    {
     "ename": "ValueError",
     "evalue": "operands could not be broadcast together with shapes (3,4) (4,3) ",
     "output_type": "error",
     "traceback": [
      "\u001b[0;31m---------------------------------------------------------------------------\u001b[0m",
      "\u001b[0;31mValueError\u001b[0m                                Traceback (most recent call last)",
      "\u001b[0;32m/tmp/ipykernel_1188/1683801453.py\u001b[0m in \u001b[0;36m<module>\u001b[0;34m\u001b[0m\n\u001b[1;32m      3\u001b[0m \u001b[0map2\u001b[0m \u001b[0;34m=\u001b[0m \u001b[0mnp\u001b[0m\u001b[0;34m.\u001b[0m\u001b[0mrandom\u001b[0m\u001b[0;34m.\u001b[0m\u001b[0mrandint\u001b[0m\u001b[0;34m(\u001b[0m\u001b[0;36m0\u001b[0m\u001b[0;34m,\u001b[0m\u001b[0;36m3\u001b[0m\u001b[0;34m,\u001b[0m\u001b[0;34m(\u001b[0m\u001b[0;36m4\u001b[0m\u001b[0;34m,\u001b[0m\u001b[0;36m3\u001b[0m\u001b[0;34m)\u001b[0m\u001b[0;34m)\u001b[0m\u001b[0;34m\u001b[0m\u001b[0;34m\u001b[0m\u001b[0m\n\u001b[1;32m      4\u001b[0m \u001b[0;34m\u001b[0m\u001b[0m\n\u001b[0;32m----> 5\u001b[0;31m \u001b[0map\u001b[0m \u001b[0;34m*\u001b[0m \u001b[0map2\u001b[0m\u001b[0;34m\u001b[0m\u001b[0;34m\u001b[0m\u001b[0m\n\u001b[0m",
      "\u001b[0;31mValueError\u001b[0m: operands could not be broadcast together with shapes (3,4) (4,3) "
     ]
    }
   ],
   "source": [
    "# ¿y si cada una tiene el numero de filas igual al numero de columnas de la otra?\n",
    "ap = np.random.randint(0,3,(3,4))\n",
    "ap2 = np.random.randint(0,3,(4,3))\n",
    "\n",
    "ap * ap2\n"
   ]
  },
  {
   "cell_type": "code",
   "execution_count": null,
   "metadata": {},
   "outputs": [],
   "source": [
    "# CONCLUSION lo que dijimos en clase no está funcionando\n",
    "# El producto matricial no es lo mismo que np.multiply. \n",
    "# np.multiply nos está multiplicando elemento a elemento, para el producto matricial usaremos el np.dot()"
   ]
  },
  {
   "cell_type": "markdown",
   "metadata": {},
   "source": [
    "* Dividid las dos matrices"
   ]
  },
  {
   "cell_type": "code",
   "execution_count": null,
   "metadata": {},
   "outputs": [
    {
     "data": {
      "text/plain": [
       "array([[1., 0., 0.],\n",
       "       [0., 1., 0.],\n",
       "       [0., 0., 1.]])"
      ]
     },
     "execution_count": 37,
     "metadata": {},
     "output_type": "execute_result"
    }
   ],
   "source": [
    "a_id / a4"
   ]
  },
  {
   "cell_type": "code",
   "execution_count": null,
   "metadata": {},
   "outputs": [
    {
     "data": {
      "text/plain": [
       "array([[1., 0., 0.],\n",
       "       [0., 1., 0.],\n",
       "       [0., 0., 1.]])"
      ]
     },
     "execution_count": 38,
     "metadata": {},
     "output_type": "execute_result"
    }
   ],
   "source": [
    "np.divide(a_id, a4)"
   ]
  }
 ],
 "metadata": {
  "kernelspec": {
   "display_name": "Python 3.9.7 ('base')",
   "language": "python",
   "name": "python3"
  },
  "language_info": {
   "codemirror_mode": {
    "name": "ipython",
    "version": 3
   },
   "file_extension": ".py",
   "mimetype": "text/x-python",
   "name": "python",
   "nbconvert_exporter": "python",
   "pygments_lexer": "ipython3",
   "version": "3.9.7"
  },
  "orig_nbformat": 4,
  "vscode": {
   "interpreter": {
    "hash": "e52e54b208979dc3580fb1371da7079de391a2363b0575de5d9739fd636c0787"
   }
  }
 },
 "nbformat": 4,
 "nbformat_minor": 2
}
