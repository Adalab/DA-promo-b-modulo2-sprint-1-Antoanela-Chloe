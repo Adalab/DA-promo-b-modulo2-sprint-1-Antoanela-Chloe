{
 "cells": [
  {
   "cell_type": "markdown",
   "metadata": {},
   "source": [
    "1. ¿Cómo podemos crear dos arrays de dos dimensiones usando el método random_sample que tengan los mismos valores?"
   ]
  },
  {
   "cell_type": "code",
   "execution_count": 1,
   "metadata": {},
   "outputs": [],
   "source": [
    "import numpy as np"
   ]
  },
  {
   "cell_type": "code",
   "execution_count": 2,
   "metadata": {},
   "outputs": [],
   "source": [
    "np.random.seed(7)\n",
    "a1 = np.random.random_sample((5,6))\n"
   ]
  },
  {
   "cell_type": "code",
   "execution_count": 28,
   "metadata": {},
   "outputs": [],
   "source": [
    "np.random.seed(8)\n",
    "a2 = np.random.random_sample((5,6))"
   ]
  },
  {
   "cell_type": "code",
   "execution_count": 29,
   "metadata": {},
   "outputs": [
    {
     "data": {
      "text/plain": [
       "array([[0.07630829, 0.77991879, 0.43840923, 0.72346518, 0.97798951,\n",
       "        0.53849587],\n",
       "       [0.50112046, 0.07205113, 0.26843898, 0.4998825 , 0.67923   ,\n",
       "        0.80373904],\n",
       "       [0.38094113, 0.06593635, 0.2881456 , 0.90959353, 0.21338535,\n",
       "        0.45212396],\n",
       "       [0.93120602, 0.02489923, 0.60054892, 0.9501295 , 0.23030288,\n",
       "        0.54848992],\n",
       "       [0.90912837, 0.13316945, 0.52341258, 0.75040986, 0.66901324,\n",
       "        0.46775286]])"
      ]
     },
     "execution_count": 29,
     "metadata": {},
     "output_type": "execute_result"
    }
   ],
   "source": [
    "a1"
   ]
  },
  {
   "cell_type": "code",
   "execution_count": 30,
   "metadata": {},
   "outputs": [
    {
     "data": {
      "text/plain": [
       "array([[0.8734294 , 0.96854066, 0.86919454, 0.53085569, 0.23272833,\n",
       "        0.0113988 ],\n",
       "       [0.43046882, 0.40235136, 0.52267467, 0.4783918 , 0.55535647,\n",
       "        0.54338602],\n",
       "       [0.76089558, 0.71237457, 0.6196821 , 0.42609177, 0.28907503,\n",
       "        0.97385524],\n",
       "       [0.33377405, 0.21880106, 0.06580839, 0.98287055, 0.12785571,\n",
       "        0.32213079],\n",
       "       [0.07094284, 0.22476994, 0.39363491, 0.896145  , 0.34546161,\n",
       "        0.98474944]])"
      ]
     },
     "execution_count": 30,
     "metadata": {},
     "output_type": "execute_result"
    }
   ],
   "source": [
    "a2"
   ]
  },
  {
   "cell_type": "markdown",
   "metadata": {},
   "source": [
    "2. Cread los siguientes arrays:\n",
    "* Un array de tres dimensiones con distribución uniforme de 2 x 3 x 5, con números entre 0 y 10, que no tengan decimales y extrae sus valores únicos almacenándolos en una variable."
   ]
  },
  {
   "cell_type": "code",
   "execution_count": 31,
   "metadata": {},
   "outputs": [
    {
     "data": {
      "text/plain": [
       "array([[[ 0.,  4.,  4.,  8.,  9.],\n",
       "        [ 3.,  4.,  3.,  8.,  6.],\n",
       "        [ 1.,  6.,  8.,  0.,  5.]],\n",
       "\n",
       "       [[ 8., 10.,  6.,  0.,  4.],\n",
       "        [ 2.,  6.,  2.,  2.,  5.],\n",
       "        [ 1.,  7.,  9.,  9.,  4.]]])"
      ]
     },
     "execution_count": 31,
     "metadata": {},
     "output_type": "execute_result"
    }
   ],
   "source": [
    "a_uni = np.round(np.random.uniform(0,10, size = (2,3,5)), 0)\n",
    "a_uni"
   ]
  },
  {
   "cell_type": "markdown",
   "metadata": {},
   "source": [
    "* Un array de tres dimensiones con distribución binomial de 2 x 3 x 5, con probabilidad de 0.3 y número de pruebas igual a 10. Igual que antes guarda los datos en una variable."
   ]
  },
  {
   "cell_type": "code",
   "execution_count": 32,
   "metadata": {},
   "outputs": [
    {
     "data": {
      "text/plain": [
       "array([[[3, 4, 3, 3, 0],\n",
       "        [1, 3, 3, 2, 3],\n",
       "        [3, 4, 2, 3, 4]],\n",
       "\n",
       "       [[3, 4, 3, 4, 4],\n",
       "        [5, 2, 2, 3, 3],\n",
       "        [3, 4, 3, 5, 4]]])"
      ]
     },
     "execution_count": 32,
     "metadata": {},
     "output_type": "execute_result"
    }
   ],
   "source": [
    "a_bi = np.random.binomial(10, 0.3, size = (2,3,5))\n",
    "a_bi"
   ]
  },
  {
   "cell_type": "markdown",
   "metadata": {},
   "source": [
    "3. En esta lección hemos aprendido algunos métodos de teórias de conjuntos. Usando los arrays de elementos únicos obtenidos en el ejercicio anterior realizad las siguientes operaciones:\n",
    "* Elementos comunes entre los dos arrays"
   ]
  },
  {
   "cell_type": "code",
   "execution_count": 33,
   "metadata": {},
   "outputs": [
    {
     "data": {
      "text/plain": [
       "(array([0., 1., 2., 3., 4., 5.]),\n",
       " array([ 0, 10, 20,  5,  1, 14]),\n",
       " array([ 4,  5,  8,  0,  1, 20]))"
      ]
     },
     "execution_count": 33,
     "metadata": {},
     "output_type": "execute_result"
    }
   ],
   "source": [
    "np.intersect1d(a_uni, a_bi, return_indices=True)\n",
    "#el primer array nos devuelve los elementos comunes\n",
    "#el segundo array los indices de los elementos comunes en el a_uni\n",
    "#en el tercer array estan los indices de los elementos comunes del a_bi"
   ]
  },
  {
   "cell_type": "markdown",
   "metadata": {},
   "source": [
    "* Unión de los dos arrays"
   ]
  },
  {
   "cell_type": "code",
   "execution_count": 34,
   "metadata": {},
   "outputs": [
    {
     "data": {
      "text/plain": [
       "array([ 0.,  1.,  2.,  3.,  4.,  5.,  6.,  7.,  8.,  9., 10.])"
      ]
     },
     "execution_count": 34,
     "metadata": {},
     "output_type": "execute_result"
    }
   ],
   "source": [
    "np.union1d(a_uni, a_bi)\n",
    "# nos devuelve un array con todos los valares unicos de los dos arrays"
   ]
  },
  {
   "cell_type": "markdown",
   "metadata": {},
   "source": [
    "* ¿Qué elementos están en el array derivado de la distribución uniforme y no en los únicos de la distribución binomial? Extrae los valores númericos"
   ]
  },
  {
   "cell_type": "code",
   "execution_count": 35,
   "metadata": {},
   "outputs": [
    {
     "data": {
      "text/plain": [
       "array([ 6.,  7.,  8.,  9., 10.])"
      ]
     },
     "execution_count": 35,
     "metadata": {},
     "output_type": "execute_result"
    }
   ],
   "source": [
    "np.setdiff1d(a_uni, a_bi) \n",
    "#nos devuelve los elementos que estan en el a_uni pero no en a_bi"
   ]
  },
  {
   "cell_type": "markdown",
   "metadata": {},
   "source": [
    "⚠️ Explicar cada uno de los outputs que os salgan. Que significa cada una de estas operaciones que hemos ido extrayendo?"
   ]
  },
  {
   "cell_type": "markdown",
   "metadata": {},
   "source": [
    "4. Cread dos arrays usando el método random.randint de Numpy con 80 elementos cada uno con números del 1-100, con los siguientes nombres array1 y array2."
   ]
  },
  {
   "cell_type": "code",
   "execution_count": 36,
   "metadata": {},
   "outputs": [
    {
     "data": {
      "text/plain": [
       "array([25, 98, 33, 25, 80, 42, 15, 78, 86, 61, 11,  3, 30, 95,  3, 13, 99,\n",
       "       72,  8, 72, 55, 62, 11, 36, 51, 16, 53, 82, 71, 52, 20, 49, 69, 41,\n",
       "       64, 69, 87, 45, 49, 99, 68, 30, 75, 47, 90,  7, 91, 77, 75, 59, 29,\n",
       "       51, 13, 87, 28, 82, 82, 74, 20, 48, 93, 97, 99, 25, 65, 82, 45, 52,\n",
       "       99, 40, 77, 86, 34, 66, 71, 58, 89, 33, 22, 37])"
      ]
     },
     "execution_count": 36,
     "metadata": {},
     "output_type": "execute_result"
    }
   ],
   "source": [
    "array1 = np.random.randint(1,100, 80)\n",
    "array1"
   ]
  },
  {
   "cell_type": "code",
   "execution_count": 37,
   "metadata": {},
   "outputs": [
    {
     "data": {
      "text/plain": [
       "array([73, 18, 87,  1,  7, 21,  6, 46,  2, 82, 15, 34, 83, 84, 39, 16, 20,\n",
       "       15, 44, 52, 85, 43, 81, 85, 88,  7, 44, 42, 24,  9, 50, 71, 91, 83,\n",
       "       78,  2, 12, 78,  5, 85, 27, 63, 22, 43, 22, 13, 91, 76, 85, 72, 29,\n",
       "       96, 51, 49, 94, 20, 32,  2,  5, 30, 60,  3, 95, 74, 94, 36, 46, 61,\n",
       "       35, 62, 33, 89, 53, 60, 36, 82, 10, 89, 66, 58])"
      ]
     },
     "execution_count": 37,
     "metadata": {},
     "output_type": "execute_result"
    }
   ],
   "source": [
    "array2 = np.random.randint(1,100, 80)\n",
    "array2"
   ]
  },
  {
   "cell_type": "markdown",
   "metadata": {},
   "source": [
    "* Extraed los valores únicos de cada uno de los arrays y los guardáis en variables en las que se les llame array1 y array2."
   ]
  },
  {
   "cell_type": "code",
   "execution_count": 38,
   "metadata": {},
   "outputs": [
    {
     "data": {
      "text/plain": [
       "array([ 3,  7,  8, 11, 13, 15, 16, 20, 22, 25, 28, 29, 30, 33, 34, 36, 37,\n",
       "       40, 41, 42, 45, 47, 48, 49, 51, 52, 53, 55, 58, 59, 61, 62, 64, 65,\n",
       "       66, 68, 69, 71, 72, 74, 75, 77, 78, 80, 82, 86, 87, 89, 90, 91, 93,\n",
       "       95, 97, 98, 99])"
      ]
     },
     "execution_count": 38,
     "metadata": {},
     "output_type": "execute_result"
    }
   ],
   "source": [
    "array1 = np.unique(array1)\n",
    "array1"
   ]
  },
  {
   "cell_type": "code",
   "execution_count": 39,
   "metadata": {},
   "outputs": [
    {
     "data": {
      "text/plain": [
       "55"
      ]
     },
     "execution_count": 39,
     "metadata": {},
     "output_type": "execute_result"
    }
   ],
   "source": [
    "array1.size"
   ]
  },
  {
   "cell_type": "code",
   "execution_count": 40,
   "metadata": {},
   "outputs": [
    {
     "data": {
      "text/plain": [
       "array([ 1,  2,  3,  5,  6,  7,  9, 10, 12, 13, 15, 16, 18, 20, 21, 22, 24,\n",
       "       27, 29, 30, 32, 33, 34, 35, 36, 39, 42, 43, 44, 46, 49, 50, 51, 52,\n",
       "       53, 58, 60, 61, 62, 63, 66, 71, 72, 73, 74, 76, 78, 81, 82, 83, 84,\n",
       "       85, 87, 88, 89, 91, 94, 95, 96])"
      ]
     },
     "execution_count": 40,
     "metadata": {},
     "output_type": "execute_result"
    }
   ],
   "source": [
    "array2 = np.unique(array2)\n",
    "array2"
   ]
  },
  {
   "cell_type": "code",
   "execution_count": 41,
   "metadata": {},
   "outputs": [
    {
     "data": {
      "text/plain": [
       "59"
      ]
     },
     "execution_count": 41,
     "metadata": {},
     "output_type": "execute_result"
    }
   ],
   "source": [
    "array2.size"
   ]
  },
  {
   "cell_type": "markdown",
   "metadata": {},
   "source": [
    "* Identificad los elementos presentes en el array1 pero no en el array2 y asiganarlo a una variable que se llame array3."
   ]
  },
  {
   "cell_type": "code",
   "execution_count": 42,
   "metadata": {},
   "outputs": [
    {
     "data": {
      "text/plain": [
       "array([ 8, 11, 25, 28, 37, 40, 41, 45, 47, 48, 55, 59, 64, 65, 68, 69, 75,\n",
       "       77, 80, 86, 90, 93, 97, 98, 99])"
      ]
     },
     "execution_count": 42,
     "metadata": {},
     "output_type": "execute_result"
    }
   ],
   "source": [
    "array3 = np.setdiff1d(array1, array2)\n",
    "array3"
   ]
  },
  {
   "cell_type": "markdown",
   "metadata": {},
   "source": [
    "* Identificad los elementos presentes en el array2 pero no en el array1 y asiganarlo a una variable que se llame array4."
   ]
  },
  {
   "cell_type": "code",
   "execution_count": 43,
   "metadata": {},
   "outputs": [
    {
     "data": {
      "text/plain": [
       "array([ 1,  2,  5,  6,  9, 10, 12, 18, 21, 24, 27, 32, 35, 39, 43, 44, 46,\n",
       "       50, 60, 63, 73, 76, 81, 83, 84, 85, 88, 94, 96])"
      ]
     },
     "execution_count": 43,
     "metadata": {},
     "output_type": "execute_result"
    }
   ],
   "source": [
    "array4 = np.setdiff1d(array2, array1)\n",
    "array4"
   ]
  },
  {
   "cell_type": "markdown",
   "metadata": {},
   "source": [
    "* Identificad los elementos presentes en ambos arrays y asiganarlos a una variable que se llame array5."
   ]
  },
  {
   "cell_type": "code",
   "execution_count": 44,
   "metadata": {},
   "outputs": [
    {
     "data": {
      "text/plain": [
       "array([ 3,  7, 13, 15, 16, 20, 22, 29, 30, 33, 34, 36, 42, 49, 51, 52, 53,\n",
       "       58, 61, 62, 66, 71, 72, 74, 78, 82, 87, 89, 91, 95])"
      ]
     },
     "execution_count": 44,
     "metadata": {},
     "output_type": "execute_result"
    }
   ],
   "source": [
    "array5 = np.intersect1d(array1, array2)\n",
    "array5"
   ]
  },
  {
   "cell_type": "markdown",
   "metadata": {},
   "source": [
    "* ¿Cuál es la relación que existe entre todos estos arrays? 💡 Pista 💡 Tendréis que usar las longitudes de cada uno de los arrays creados."
   ]
  },
  {
   "cell_type": "code",
   "execution_count": 45,
   "metadata": {},
   "outputs": [],
   "source": [
    "# arr1 y arr2 fueron creados de forma aleatoria con las mismas condiciones.\n",
    "# Al crear los nuevos arrays con np.unique(arr1 y arr2), se ve que arr 1 tenía más elementos repetidos que  arr2, ya que --> array1.size > array2.size"
   ]
  },
  {
   "cell_type": "code",
   "execution_count": 65,
   "metadata": {},
   "outputs": [
    {
     "name": "stdout",
     "output_type": "stream",
     "text": [
      "La cantidad de elementos únicos que tiene arr1 son: 55\n",
      "La cantidad de elementos únicos que tiene arr2 son: 59\n",
      "arr2 tiene 4 elementos únicos más que arr1\n",
      "Por eso ¿Es array 2 más grande que array1?:  True\n"
     ]
    }
   ],
   "source": [
    "print('La cantidad de elementos únicos que tiene arr1 son:', array1.size)\n",
    "print('La cantidad de elementos únicos que tiene arr2 son:', array2.size)\n",
    "print('arr2 tiene', (array2.size) - (array1.size), 'elementos únicos más que arr1')\n",
    "print('Por eso ¿Es array 2 más grande que array1?: ', array2.size > array1.size)"
   ]
  },
  {
   "cell_type": "code",
   "execution_count": 49,
   "metadata": {},
   "outputs": [],
   "source": [
    "# El array3 contiene los elementos diferentes que tiene el array1 con respecto al array2. Osea los que solo están en array1\n",
    "# El array4 contiene los elementos diferentes que tiene el array2 con respecto al array1. Osea los que solo están en array2"
   ]
  },
  {
   "cell_type": "code",
   "execution_count": 48,
   "metadata": {},
   "outputs": [
    {
     "data": {
      "text/plain": [
       "25"
      ]
     },
     "execution_count": 48,
     "metadata": {},
     "output_type": "execute_result"
    }
   ],
   "source": [
    "array3.size"
   ]
  },
  {
   "cell_type": "code",
   "execution_count": 50,
   "metadata": {},
   "outputs": [
    {
     "data": {
      "text/plain": [
       "29"
      ]
     },
     "execution_count": 50,
     "metadata": {},
     "output_type": "execute_result"
    }
   ],
   "source": [
    "array4.size"
   ]
  },
  {
   "cell_type": "code",
   "execution_count": 60,
   "metadata": {},
   "outputs": [
    {
     "name": "stdout",
     "output_type": "stream",
     "text": [
      "El array 3 es la diferencia entre array 1 y array 2.\n",
      " El array 1 tiene 25 elementos distintos con respecto a array2.\n"
     ]
    }
   ],
   "source": [
    "print('El array 3 es la diferencia entre array 1 y array 2.\\n El array 1 tiene', array3.size, 'elementos distintos con respecto a array 2.')"
   ]
  },
  {
   "cell_type": "code",
   "execution_count": 61,
   "metadata": {},
   "outputs": [
    {
     "name": "stdout",
     "output_type": "stream",
     "text": [
      "El array 4 es la diferencia entre array 2 y array 1.\n",
      " El array 2 tiene 29 elementos distintos con respecto a array 1.\n"
     ]
    }
   ],
   "source": [
    "print('El array 4 es la diferencia entre array 2 y array 1.\\n El array 2 tiene', array4.size, 'elementos distintos con respecto a array 1.')"
   ]
  },
  {
   "cell_type": "code",
   "execution_count": 58,
   "metadata": {},
   "outputs": [
    {
     "name": "stdout",
     "output_type": "stream",
     "text": [
      "El array 5 es la intersección de array 1 y array 2.\n",
      " Tienen 30 elementos en común.\n"
     ]
    }
   ],
   "source": [
    "print('El array 5 es la intersección de array 1 y array 2.\\n Tienen', array5.size, 'elementos en común.')"
   ]
  },
  {
   "cell_type": "code",
   "execution_count": 57,
   "metadata": {},
   "outputs": [
    {
     "name": "stdout",
     "output_type": "stream",
     "text": [
      "La suma de las longitudes de array 5 + array 3 es: 55 \n",
      " Que es igual al tamaño original de array 1: 55\n"
     ]
    }
   ],
   "source": [
    "print('La suma de las longitudes de array 5 + array 3 es:', array5.size + array3.size, '\\n Que es igual al tamaño original de array 1:', array1.size)"
   ]
  },
  {
   "cell_type": "code",
   "execution_count": 55,
   "metadata": {},
   "outputs": [
    {
     "name": "stdout",
     "output_type": "stream",
     "text": [
      "La suma de las longitudes de array 5 + array 4 es: 59 \n",
      " Que es igual al tamaño original de array 2: 59\n"
     ]
    }
   ],
   "source": [
    "print('La suma de las longitudes de array 5 + array 4 es:', array5.size + array4.size, '\\n Que es igual al tamaño original de array 2:', array2.size)"
   ]
  }
 ],
 "metadata": {
  "kernelspec": {
   "display_name": "Python 3.9.7 ('base')",
   "language": "python",
   "name": "python3"
  },
  "language_info": {
   "codemirror_mode": {
    "name": "ipython",
    "version": 3
   },
   "file_extension": ".py",
   "mimetype": "text/x-python",
   "name": "python",
   "nbconvert_exporter": "python",
   "pygments_lexer": "ipython3",
   "version": "3.9.7"
  },
  "orig_nbformat": 4,
  "vscode": {
   "interpreter": {
    "hash": "6be5d780ee9b0e6fe20ff9090f4981b24f52f07297829e94136e87c5137905e3"
   }
  }
 },
 "nbformat": 4,
 "nbformat_minor": 2
}
