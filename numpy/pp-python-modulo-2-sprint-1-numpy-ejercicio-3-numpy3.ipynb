{
 "cells": [
  {
   "cell_type": "markdown",
   "metadata": {},
   "source": [
    " 1. Cread un array de tres dimensiones de 2 matrices, 3 filas y 5 columnas cuyos valores solo tengan 1 decimales. Sobre el array creado anteriormente, extraed:"
   ]
  },
  {
   "cell_type": "code",
   "execution_count": 2,
   "metadata": {},
   "outputs": [],
   "source": [
    "import numpy as np"
   ]
  },
  {
   "cell_type": "code",
   "execution_count": 38,
   "metadata": {},
   "outputs": [
    {
     "data": {
      "text/plain": [
       "array([[[0.2, 0.7, 1. , 0.8, 0.1],\n",
       "        [0.6, 0.7, 0.7, 0.9, 0.1],\n",
       "        [0.5, 0.5, 0.6, 0.3, 0.7]],\n",
       "\n",
       "       [[0.3, 1. , 0.8, 0.9, 0.1],\n",
       "        [0.2, 0.2, 0.4, 0.5, 0.3],\n",
       "        [0.5, 0.4, 0.6, 0.7, 0.7]]])"
      ]
     },
     "execution_count": 38,
     "metadata": {},
     "output_type": "execute_result"
    }
   ],
   "source": [
    "arr = np.random.rand(2,3,5).round(decimals = 1)\n",
    "arr"
   ]
  },
  {
   "cell_type": "markdown",
   "metadata": {},
   "source": [
    "2. Calculad la media del array y almacenarlos en una variable. Redondead a un decimal"
   ]
  },
  {
   "cell_type": "code",
   "execution_count": 39,
   "metadata": {},
   "outputs": [
    {
     "data": {
      "text/plain": [
       "0.5"
      ]
     },
     "execution_count": 39,
     "metadata": {},
     "output_type": "execute_result"
    }
   ],
   "source": [
    "arr_media = np.mean(arr).round(decimals = 1)\n",
    "arr_media"
   ]
  },
  {
   "cell_type": "markdown",
   "metadata": {},
   "source": [
    "3. Calculad el valor máximo del array y almacenarlos en una variable. Redondead a un decimal."
   ]
  },
  {
   "cell_type": "code",
   "execution_count": 40,
   "metadata": {},
   "outputs": [
    {
     "data": {
      "text/plain": [
       "1.0"
      ]
     },
     "execution_count": 40,
     "metadata": {},
     "output_type": "execute_result"
    }
   ],
   "source": [
    "arr_max = np.max(arr)\n",
    "arr_max"
   ]
  },
  {
   "cell_type": "markdown",
   "metadata": {},
   "source": [
    "4. Calculad el valor mínimo del array y almacenarlos en una variable. Redondead a un decimal"
   ]
  },
  {
   "cell_type": "code",
   "execution_count": 41,
   "metadata": {},
   "outputs": [
    {
     "data": {
      "text/plain": [
       "0.1"
      ]
     },
     "execution_count": 41,
     "metadata": {},
     "output_type": "execute_result"
    }
   ],
   "source": [
    "arr_min = np.min(arr)\n",
    "arr_min"
   ]
  },
  {
   "cell_type": "markdown",
   "metadata": {},
   "source": [
    "5. Cread un array vacío con la misma forma y dimensiones que el array creado anteriormente.\n",
    "Vamos a reemplazar los valores de la matriz vacía que nos acabamos de crear pero basándonos en los valores del primer array bajo las siguientes condiciones:\n",
    "Si el valor del array es igual que la media, se reemplaza por \"A\".\n",
    "Si el valor del array es mayor que la media, se reemplaza por \"B\".\n",
    "Si el valor del array es menor que la media, se reemplaza por \"C\".\n",
    "Si el valor es igual que el máximo, se reemplaza por \"D\".\n",
    "Si el valor es igual que el mínimo, se reemplaza por \"E\".\n"
   ]
  },
  {
   "cell_type": "code",
   "execution_count": 42,
   "metadata": {},
   "outputs": [
    {
     "data": {
      "text/plain": [
       "array([[['', '', '', '', ''],\n",
       "        ['', '', '', '', ''],\n",
       "        ['', '', '', '', '']],\n",
       "\n",
       "       [['', '', '', '', ''],\n",
       "        ['', '', '', '', ''],\n",
       "        ['', '', '', '', '']]], dtype='<U1')"
      ]
     },
     "execution_count": 42,
     "metadata": {},
     "output_type": "execute_result"
    }
   ],
   "source": [
    "# creamos un array vacio de mismas caracteristicas que el anterior\n",
    "array = np.empty_like(arr, dtype= str)\n",
    "array"
   ]
  },
  {
   "cell_type": "code",
   "execution_count": 43,
   "metadata": {},
   "outputs": [],
   "source": [
    "# El array tiene que ser string para que podamos sustituirlo por letras."
   ]
  },
  {
   "cell_type": "code",
   "execution_count": 50,
   "metadata": {},
   "outputs": [
    {
     "data": {
      "text/plain": [
       "array([[[0.2, 0.7, 1. , 0.8, 0.1],\n",
       "        [0.6, 0.7, 0.7, 0.9, 0.1],\n",
       "        [0.5, 0.5, 0.6, 0.3, 0.7]],\n",
       "\n",
       "       [[0.3, 1. , 0.8, 0.9, 0.1],\n",
       "        [0.2, 0.2, 0.4, 0.5, 0.3],\n",
       "        [0.5, 0.4, 0.6, 0.7, 0.7]]])"
      ]
     },
     "execution_count": 50,
     "metadata": {},
     "output_type": "execute_result"
    }
   ],
   "source": [
    "arr"
   ]
  },
  {
   "cell_type": "code",
   "execution_count": 52,
   "metadata": {},
   "outputs": [
    {
     "data": {
      "text/plain": [
       "array([[['C', 'B', 'D', 'B', 'E'],\n",
       "        ['B', 'B', 'B', 'B', 'E'],\n",
       "        ['A', 'A', 'B', 'C', 'B']],\n",
       "\n",
       "       [['C', 'D', 'B', 'B', 'E'],\n",
       "        ['C', 'C', 'C', 'A', 'C'],\n",
       "        ['A', 'C', 'B', 'B', 'B']]], dtype='<U1')"
      ]
     },
     "execution_count": 52,
     "metadata": {},
     "output_type": "execute_result"
    }
   ],
   "source": [
    "# Iteramos por el array\n",
    "for i in range(arr.shape[0]):\n",
    "    \n",
    "    for j in range(arr.shape[1]):\n",
    "        \n",
    "        for k in range(arr.shape[2]):\n",
    "           \n",
    "            if arr[i][j][k] == arr_media:\n",
    "                array[i][j][k] = 'A'\n",
    "            elif arr[i][j][k]  == arr_max:\n",
    "                array[i][j][k] = 'D'\n",
    "            elif arr[i][j][k]  == arr_min:          # ponemos estas condiciones primero y luego, si no coinciden, chequeamos si cumplen las de más abajo\n",
    "                array[i][j][k] = 'E'\n",
    "            elif arr[i][j][k]  > arr_media:\n",
    "                array[i][j][k] = 'B'\n",
    "            elif arr[i][j][k]  < arr_media:\n",
    "                array[i][j][k] = 'C'\n",
    "            \n",
    "            \n",
    "\n",
    "array\n",
    "            "
   ]
  },
  {
   "cell_type": "markdown",
   "metadata": {},
   "source": [
    "6. Estupendo, tenemos un array con strings. Ahora realizaremos un ejercicio similar al anterior, pero en este caso nos crearemos un array vacío unidimensional de 30 elementos. Al final de este ejercicio acabaremos teniendo un array de tres dimensiones con la misma forma que el primero que nos creamos.\n",
    "En este caso:\n",
    "* Si el valor del array creado en el ejercicio anterior es \"A\" o \"B\" lo reemplazaremos por 1\n",
    "* Si el valor del array creado en el ejercicio anterior es \"C\" o \"D\" lo reemplazaremos por 2\n",
    "* Si el valor del array creado en el ejercicio anterior es \"E\" lo reemplazaremos por 3.\n",
    "\n",
    "Una vez que hayas reemplazado todos los valores cambiad la forma del array para que sea de tres dimensiones, con 2 matrices, 3 filas y 5 columnas.\n"
   ]
  },
  {
   "cell_type": "code",
   "execution_count": 63,
   "metadata": {},
   "outputs": [
    {
     "data": {
      "text/plain": [
       "array(['C', 'B', 'D', 'B', 'E', 'B', 'B', 'B', 'B', 'E', 'A', 'A', 'B',\n",
       "       'C', 'B', 'C', 'D', 'B', 'B', 'E', 'C', 'C', 'C', 'A', 'C', 'A',\n",
       "       'C', 'B', 'B', 'B'], dtype='<U1')"
      ]
     },
     "execution_count": 63,
     "metadata": {},
     "output_type": "execute_result"
    }
   ],
   "source": [
    "# Para poder iterar por ambos arrays, hacemos un reshape al array anterior\n",
    "arr2 = array.reshape(30)\n",
    "arr2"
   ]
  },
  {
   "cell_type": "code",
   "execution_count": 53,
   "metadata": {},
   "outputs": [
    {
     "data": {
      "text/plain": [
       "array([4596373779694328218, 4604480259023595110, 4607182418800017408,\n",
       "       4605380978949069210, 4591870180066957722, 4603579539098121011,\n",
       "       4604480259023595110, 4604480259023595110, 4606281698874543309,\n",
       "       4591870180066957722, 4602678819172646912, 4602678819172646912,\n",
       "       4603579539098121011, 4599075939470750515, 4604480259023595110,\n",
       "       4599075939470750515, 4607182418800017408, 4605380978949069210,\n",
       "       4606281698874543309, 4591870180066957722, 4596373779694328218,\n",
       "       4596373779694328218, 4600877379321698714, 4602678819172646912,\n",
       "       4599075939470750515, 4602678819172646912, 4600877379321698714,\n",
       "       4603579539098121011, 4604480259023595110, 4604480259023595110])"
      ]
     },
     "execution_count": 53,
     "metadata": {},
     "output_type": "execute_result"
    }
   ],
   "source": [
    "array_1d = np.empty(30, dtype = int )\n",
    "array_1d"
   ]
  },
  {
   "cell_type": "code",
   "execution_count": 64,
   "metadata": {},
   "outputs": [
    {
     "data": {
      "text/plain": [
       "array([2, 1, 2, 1, 3, 1, 1, 1, 1, 3, 1, 1, 1, 2, 1, 2, 2, 1, 1, 3, 2, 2,\n",
       "       2, 1, 2, 1, 2, 1, 1, 1])"
      ]
     },
     "execution_count": 64,
     "metadata": {},
     "output_type": "execute_result"
    }
   ],
   "source": [
    "for x in range(array_1d.size):\n",
    "\n",
    "    if arr2[x] == 'A' or arr2[x] == 'B':\n",
    "        array_1d[x] = 1\n",
    "    elif arr2[x]  == 'C' or arr2[x] == 'D':\n",
    "        array_1d[x] = 2\n",
    "    elif arr2[x]  == 'E':        \n",
    "        array_1d[x] = 3\n",
    "array_1d"
   ]
  },
  {
   "cell_type": "code",
   "execution_count": 65,
   "metadata": {},
   "outputs": [
    {
     "data": {
      "text/plain": [
       "array([[[2, 1, 2, 1, 3],\n",
       "        [1, 1, 1, 1, 3],\n",
       "        [1, 1, 1, 2, 1]],\n",
       "\n",
       "       [[2, 2, 1, 1, 3],\n",
       "        [2, 2, 2, 1, 2],\n",
       "        [1, 2, 1, 1, 1]]])"
      ]
     },
     "execution_count": 65,
     "metadata": {},
     "output_type": "execute_result"
    }
   ],
   "source": [
    "arr3 = array_1d.reshape(2,3,5)\n",
    "arr3"
   ]
  }
 ],
 "metadata": {
  "kernelspec": {
   "display_name": "Python 3.9.7 ('base')",
   "language": "python",
   "name": "python3"
  },
  "language_info": {
   "codemirror_mode": {
    "name": "ipython",
    "version": 3
   },
   "file_extension": ".py",
   "mimetype": "text/x-python",
   "name": "python",
   "nbconvert_exporter": "python",
   "pygments_lexer": "ipython3",
   "version": "3.9.7"
  },
  "orig_nbformat": 4,
  "vscode": {
   "interpreter": {
    "hash": "6be5d780ee9b0e6fe20ff9090f4981b24f52f07297829e94136e87c5137905e3"
   }
  }
 },
 "nbformat": 4,
 "nbformat_minor": 2
}
