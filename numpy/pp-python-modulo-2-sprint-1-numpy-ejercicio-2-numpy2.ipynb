{
 "cells": [
  {
   "cell_type": "markdown",
   "metadata": {},
   "source": [
    "1. Cread un array de dos dimensiones de 5 filas y 3 columnas. Sobre el array creado anteriormente, extraed:\n",
    "* El valor de la primera fila y la segunda columna."
   ]
  },
  {
   "cell_type": "code",
   "execution_count": 2,
   "metadata": {},
   "outputs": [],
   "source": [
    "# Importamos librerías\n",
    "import numpy as np"
   ]
  },
  {
   "cell_type": "code",
   "execution_count": 11,
   "metadata": {},
   "outputs": [
    {
     "data": {
      "text/plain": [
       "array([[1, 4, 1],\n",
       "       [4, 9, 6],\n",
       "       [4, 8, 8],\n",
       "       [6, 6, 6],\n",
       "       [4, 4, 7]])"
      ]
     },
     "execution_count": 11,
     "metadata": {},
     "output_type": "execute_result"
    }
   ],
   "source": [
    "# Creamos el array \n",
    "a2 = np.random.randint(1,10,(5,3))\n",
    "a2"
   ]
  },
  {
   "cell_type": "code",
   "execution_count": 12,
   "metadata": {},
   "outputs": [
    {
     "data": {
      "text/plain": [
       "4"
      ]
     },
     "execution_count": 12,
     "metadata": {},
     "output_type": "execute_result"
    }
   ],
   "source": [
    "#Extraemos el valor pedido\n",
    "a2[0,1]"
   ]
  },
  {
   "cell_type": "markdown",
   "metadata": {},
   "source": [
    "* Los valores de la segunda fila y las dos primeras columnas."
   ]
  },
  {
   "cell_type": "code",
   "execution_count": 13,
   "metadata": {},
   "outputs": [
    {
     "data": {
      "text/plain": [
       "array([4, 9])"
      ]
     },
     "execution_count": 13,
     "metadata": {},
     "output_type": "execute_result"
    }
   ],
   "source": [
    "a2[1,:2]"
   ]
  },
  {
   "cell_type": "markdown",
   "metadata": {},
   "source": [
    "* Extraed las filas pares (incluyendo la 0) y todas las columnas."
   ]
  },
  {
   "cell_type": "code",
   "execution_count": 14,
   "metadata": {},
   "outputs": [
    {
     "data": {
      "text/plain": [
       "array([[1, 4, 1],\n",
       "       [4, 8, 8],\n",
       "       [4, 4, 7]])"
      ]
     },
     "execution_count": 14,
     "metadata": {},
     "output_type": "execute_result"
    }
   ],
   "source": [
    "a2[0::2,:]"
   ]
  },
  {
   "cell_type": "code",
   "execution_count": 15,
   "metadata": {},
   "outputs": [
    {
     "data": {
      "text/plain": [
       "array([[1, 4, 1],\n",
       "       [4, 8, 8],\n",
       "       [4, 4, 7]])"
      ]
     },
     "execution_count": 15,
     "metadata": {},
     "output_type": "execute_result"
    }
   ],
   "source": [
    "a2[::2] # también lo podemos extraer así"
   ]
  },
  {
   "cell_type": "markdown",
   "metadata": {},
   "source": [
    "* Extraed los valores que sean mayores que 0.5."
   ]
  },
  {
   "cell_type": "code",
   "execution_count": 16,
   "metadata": {},
   "outputs": [
    {
     "data": {
      "text/plain": [
       "array([1, 4, 1, 4, 9, 6, 4, 8, 8, 6, 6, 6, 4, 4, 7])"
      ]
     },
     "execution_count": 16,
     "metadata": {},
     "output_type": "execute_result"
    }
   ],
   "source": [
    "a2[a2>0.5]"
   ]
  },
  {
   "cell_type": "code",
   "execution_count": null,
   "metadata": {},
   "outputs": [],
   "source": [
    "# Como todos nuestros elementos son integers, nos extrae todos en un array de una dimension"
   ]
  },
  {
   "cell_type": "code",
   "execution_count": 24,
   "metadata": {},
   "outputs": [
    {
     "data": {
      "text/plain": [
       "array([[0.99356336, 0.65621957, 0.86916786],\n",
       "       [0.72181938, 0.77737752, 0.41030904],\n",
       "       [0.97031859, 0.91386991, 0.20842074],\n",
       "       [0.161051  , 0.70539386, 0.67666644],\n",
       "       [0.05344992, 0.66691831, 0.83524446]])"
      ]
     },
     "execution_count": 24,
     "metadata": {},
     "output_type": "execute_result"
    }
   ],
   "source": [
    "# Nos creamos un nuevo array con numeros float para poder filtrar por esas condiciones\n",
    "afloat = np.random.rand(5,3)\n",
    "afloat"
   ]
  },
  {
   "cell_type": "markdown",
   "metadata": {},
   "source": [
    "* Extraed los valores menores que 0.2 o mayores que 0.5"
   ]
  },
  {
   "cell_type": "code",
   "execution_count": 27,
   "metadata": {},
   "outputs": [
    {
     "data": {
      "text/plain": [
       "array([0.99356336, 0.65621957, 0.86916786, 0.72181938, 0.77737752,\n",
       "       0.97031859, 0.91386991, 0.161051  , 0.70539386, 0.67666644,\n",
       "       0.05344992, 0.66691831, 0.83524446])"
      ]
     },
     "execution_count": 27,
     "metadata": {},
     "output_type": "execute_result"
    }
   ],
   "source": [
    "# Usamos nuestro array de floats para ello\n",
    "afloat[(afloat<0.2) | (afloat>0.5)]"
   ]
  },
  {
   "cell_type": "markdown",
   "metadata": {},
   "source": [
    "2. Cread dos array de tres dimensiones:"
   ]
  },
  {
   "cell_type": "markdown",
   "metadata": {},
   "source": [
    "* El primero de 2 matrices, 5 filas y 3 columnas."
   ]
  },
  {
   "cell_type": "code",
   "execution_count": 6,
   "metadata": {},
   "outputs": [
    {
     "data": {
      "text/plain": [
       "array([[[5, 9, 8],\n",
       "        [9, 2, 5],\n",
       "        [3, 1, 7],\n",
       "        [6, 5, 6],\n",
       "        [8, 3, 3]],\n",
       "\n",
       "       [[8, 9, 3],\n",
       "        [2, 1, 8],\n",
       "        [2, 8, 6],\n",
       "        [3, 9, 5],\n",
       "        [4, 4, 1]]])"
      ]
     },
     "execution_count": 6,
     "metadata": {},
     "output_type": "execute_result"
    }
   ],
   "source": [
    "arr3_1 = np.random.randint(1,10,(2,5,3))\n",
    "arr3_1"
   ]
  },
  {
   "cell_type": "markdown",
   "metadata": {},
   "source": [
    "* El segundo de 3 matrices, 2 filas y 5 columnas"
   ]
  },
  {
   "cell_type": "code",
   "execution_count": 7,
   "metadata": {},
   "outputs": [
    {
     "data": {
      "text/plain": [
       "array([[[7, 9, 7, 6, 1],\n",
       "        [2, 3, 8, 1, 8]],\n",
       "\n",
       "       [[5, 5, 2, 2, 8],\n",
       "        [3, 4, 8, 3, 4]],\n",
       "\n",
       "       [[3, 2, 4, 4, 8],\n",
       "        [7, 7, 2, 7, 1]]])"
      ]
     },
     "execution_count": 7,
     "metadata": {},
     "output_type": "execute_result"
    }
   ],
   "source": [
    "arr3_2 = np.random.randint(1,10,(3,2,5))\n",
    "arr3_2"
   ]
  },
  {
   "cell_type": "markdown",
   "metadata": {},
   "source": [
    "* Sumad los dos arrays. ¿Podéis? ¿Por qué?"
   ]
  },
  {
   "cell_type": "code",
   "execution_count": 8,
   "metadata": {},
   "outputs": [
    {
     "ename": "ValueError",
     "evalue": "operands could not be broadcast together with shapes (2,5,3) (3,2,5) ",
     "output_type": "error",
     "traceback": [
      "\u001b[0;31m---------------------------------------------------------------------------\u001b[0m",
      "\u001b[0;31mValueError\u001b[0m                                Traceback (most recent call last)",
      "\u001b[0;32m/tmp/ipykernel_944/2702087173.py\u001b[0m in \u001b[0;36m<module>\u001b[0;34m\u001b[0m\n\u001b[0;32m----> 1\u001b[0;31m \u001b[0mnp\u001b[0m\u001b[0;34m.\u001b[0m\u001b[0madd\u001b[0m\u001b[0;34m(\u001b[0m\u001b[0marr3_1\u001b[0m\u001b[0;34m,\u001b[0m \u001b[0marr3_2\u001b[0m\u001b[0;34m)\u001b[0m\u001b[0;34m\u001b[0m\u001b[0;34m\u001b[0m\u001b[0m\n\u001b[0m\u001b[1;32m      2\u001b[0m \u001b[0;34m\u001b[0m\u001b[0m\n\u001b[1;32m      3\u001b[0m \u001b[0;31m# Sale el ValueError: 'operands could not be broadcast together with shapes (2,5,3) (3,2,5) '.\u001b[0m\u001b[0;34m\u001b[0m\u001b[0;34m\u001b[0m\u001b[0m\n\u001b[1;32m      4\u001b[0m \u001b[0;31m# No se pueden sumar matrices que no tengan la misma forma.\u001b[0m\u001b[0;34m\u001b[0m\u001b[0;34m\u001b[0m\u001b[0m\n",
      "\u001b[0;31mValueError\u001b[0m: operands could not be broadcast together with shapes (2,5,3) (3,2,5) "
     ]
    }
   ],
   "source": [
    "np.add(arr3_1, arr3_2)\n",
    "\n",
    "# Sale el ValueError: 'operands could not be broadcast together with shapes (2,5,3) (3,2,5) '.\n",
    "# No se pueden sumar matrices que no tengan la misma forma."
   ]
  },
  {
   "cell_type": "markdown",
   "metadata": {},
   "source": [
    "* Para cambiar la forma de un array y poder hacer operaciones entre arrays que tienen distintas formas hemos aprendido dos métodos:\n",
    "    * .reshape()\n",
    "    * .transpose()\n",
    "Utiliza estas dos funciones para cambiar la forma de los array y hacer operaciones entre ellos."
   ]
  },
  {
   "cell_type": "code",
   "execution_count": 9,
   "metadata": {},
   "outputs": [
    {
     "data": {
      "text/plain": [
       "array([[[5, 9, 8, 9, 2],\n",
       "        [5, 3, 1, 7, 6]],\n",
       "\n",
       "       [[5, 6, 8, 3, 3],\n",
       "        [8, 9, 3, 2, 1]],\n",
       "\n",
       "       [[8, 2, 8, 6, 3],\n",
       "        [9, 5, 4, 4, 1]]])"
      ]
     },
     "execution_count": 9,
     "metadata": {},
     "output_type": "execute_result"
    }
   ],
   "source": [
    "# reshape\n",
    "# Le pasamos las dimensiones que queremos que tenga nuestro primer array \"arr3_1\" \n",
    "# para que se pueda sumar al segundo array \"arr3_2\"\n",
    "arr3_1_resh = arr3_1.reshape((3,2,5))\n",
    "arr3_1_resh"
   ]
  },
  {
   "cell_type": "code",
   "execution_count": 10,
   "metadata": {},
   "outputs": [
    {
     "data": {
      "text/plain": [
       "array([[[12, 18, 15, 15,  3],\n",
       "        [ 7,  6,  9,  8, 14]],\n",
       "\n",
       "       [[10, 11, 10,  5, 11],\n",
       "        [11, 13, 11,  5,  5]],\n",
       "\n",
       "       [[11,  4, 12, 10, 11],\n",
       "        [16, 12,  6, 11,  2]]])"
      ]
     },
     "execution_count": 10,
     "metadata": {},
     "output_type": "execute_result"
    }
   ],
   "source": [
    "# ahora sumamos\n",
    "np.add(arr3_1_resh, arr3_2)"
   ]
  },
  {
   "cell_type": "code",
   "execution_count": 11,
   "metadata": {},
   "outputs": [
    {
     "data": {
      "text/plain": [
       "array([[[5, 9, 8],\n",
       "        [9, 2, 5],\n",
       "        [3, 1, 7],\n",
       "        [6, 5, 6],\n",
       "        [8, 3, 3]],\n",
       "\n",
       "       [[8, 9, 3],\n",
       "        [2, 1, 8],\n",
       "        [2, 8, 6],\n",
       "        [3, 9, 5],\n",
       "        [4, 4, 1]]])"
      ]
     },
     "execution_count": 11,
     "metadata": {},
     "output_type": "execute_result"
    }
   ],
   "source": [
    "# Transpose\n",
    "# El array \"arr3_1\" tiene las dimensiones (2, 5, 3)\n",
    "# El array \"arr3_2\" tiene las dimensiones (3, 2, 5)\n",
    "\n",
    "# El array traspuesto, que partirá del \"arr3_1\", tendrá las mismas dimensiones, pero en posiciones cambiadas (para ser como \"arr3_2\")\n",
    "# Vamos a construir las posiciones nuevas del array3_1_trans (?,?,?)\n",
    "\n",
    "                                                                            \n",
    "# La dimension que arr3_1 tene en la poscicion 0 (el 2), arr3_2 la tiene en la posicion 1\n",
    "# (Nuestro 0 tendrá que ir en la posición 1 del array traspuesto)\n",
    "                    # posiciones iniciales(0,1,2) -- dimensiones iniciales(2,5,3)\n",
    "                       #nueva posición    (?,0,?) -- dimension nueva      (?,2,?)\n",
    "\n",
    "                                                                                                         \n",
    "# La dimension que arr3_1 tene en la poscicion 1 (el 5), arr3_2 la tiene en la posicion 2 \n",
    "\n",
    "                    # posiciones iniciales(0,1,2) -- dimensiones iniciales(2,5,3)\n",
    "                       #nueva posición    (?,0,1) -- dimension nueva      (?,2,5)\n",
    "\n",
    "# La dimension que arr3_1 tene en la poscicion 2 (el 3), arr3_2 la tiene en la posicion 0 \n",
    "# (Nuestro 2 tendrá que ir en la posición 0 del array traspuesto)\n",
    "                    # posiciones iniciales(0,1,2) -- dimensiones iniciales(2,5,3)\n",
    "                       #nueva posición    (2,0,1) -- dimension nueva      (3,2,5) -- que es igual a la dimension de arr3_2, ¡las podemos sumar!\n",
    "\n",
    "#arr3_1_trans tendrá las dimensiones del array original, pero con las posiciones en este orden -- (2, 0, 1)\n",
    "\n",
    "\n",
    "arr3_1       # (0, 1, 2)\n",
    "             # (2, 5, 3)        \n",
    "                   "
   ]
  },
  {
   "cell_type": "code",
   "execution_count": 12,
   "metadata": {},
   "outputs": [
    {
     "data": {
      "text/plain": [
       "array([[[7, 9, 7, 6, 1],\n",
       "        [2, 3, 8, 1, 8]],\n",
       "\n",
       "       [[5, 5, 2, 2, 8],\n",
       "        [3, 4, 8, 3, 4]],\n",
       "\n",
       "       [[3, 2, 4, 4, 8],\n",
       "        [7, 7, 2, 7, 1]]])"
      ]
     },
     "execution_count": 12,
     "metadata": {},
     "output_type": "execute_result"
    }
   ],
   "source": [
    "arr3_2      # (0, 1, 2)\n",
    "            # (3, 2, 5)"
   ]
  },
  {
   "cell_type": "code",
   "execution_count": 13,
   "metadata": {},
   "outputs": [
    {
     "data": {
      "text/plain": [
       "array([[[5, 9, 3, 6, 8],\n",
       "        [8, 2, 2, 3, 4]],\n",
       "\n",
       "       [[9, 2, 1, 5, 3],\n",
       "        [9, 1, 8, 9, 4]],\n",
       "\n",
       "       [[8, 5, 7, 6, 3],\n",
       "        [3, 8, 6, 5, 1]]])"
      ]
     },
     "execution_count": 13,
     "metadata": {},
     "output_type": "execute_result"
    }
   ],
   "source": [
    "arr3_1_trans = arr3_1.transpose((2, 0, 1))\n",
    "arr3_1_trans"
   ]
  },
  {
   "cell_type": "code",
   "execution_count": 14,
   "metadata": {},
   "outputs": [
    {
     "data": {
      "text/plain": [
       "array([[[12, 18, 10, 12,  9],\n",
       "        [10,  5, 10,  4, 12]],\n",
       "\n",
       "       [[14,  7,  3,  7, 11],\n",
       "        [12,  5, 16, 12,  8]],\n",
       "\n",
       "       [[11,  7, 11, 10, 11],\n",
       "        [10, 15,  8, 12,  2]]])"
      ]
     },
     "execution_count": 14,
     "metadata": {},
     "output_type": "execute_result"
    }
   ],
   "source": [
    "np.add(arr3_1_trans,arr3_2)"
   ]
  }
 ],
 "metadata": {
  "kernelspec": {
   "display_name": "Python 3.6.9 64-bit",
   "language": "python",
   "name": "python3"
  },
  "language_info": {
   "codemirror_mode": {
    "name": "ipython",
    "version": 3
   },
   "file_extension": ".py",
   "mimetype": "text/x-python",
   "name": "python",
   "nbconvert_exporter": "python",
   "pygments_lexer": "ipython3",
   "version": "3.6.9"
  },
  "orig_nbformat": 4,
  "vscode": {
   "interpreter": {
    "hash": "31f2aee4e71d21fbe5cf8b01ff0e069b9275f58929596ceb00d14d90e3e16cd6"
   }
  }
 },
 "nbformat": 4,
 "nbformat_minor": 2
}
